{
 "cells": [
  {
   "cell_type": "code",
   "execution_count": 70,
   "id": "28b010f4",
   "metadata": {},
   "outputs": [
    {
     "data": {
      "text/html": [
       "<div>\n",
       "<style scoped>\n",
       "    .dataframe tbody tr th:only-of-type {\n",
       "        vertical-align: middle;\n",
       "    }\n",
       "\n",
       "    .dataframe tbody tr th {\n",
       "        vertical-align: top;\n",
       "    }\n",
       "\n",
       "    .dataframe thead th {\n",
       "        text-align: right;\n",
       "    }\n",
       "</style>\n",
       "<table border=\"1\" class=\"dataframe\">\n",
       "  <thead>\n",
       "    <tr style=\"text-align: right;\">\n",
       "      <th></th>\n",
       "      <th>User ID</th>\n",
       "      <th>Device Model</th>\n",
       "      <th>Operating System</th>\n",
       "      <th>App Usage Time (min/day)</th>\n",
       "      <th>Screen On Time (hours/day)</th>\n",
       "      <th>Battery Drain (mAh/day)</th>\n",
       "      <th>Number of Apps Installed</th>\n",
       "      <th>Data Usage (MB/day)</th>\n",
       "      <th>Age</th>\n",
       "      <th>Gender</th>\n",
       "      <th>User Behavior Class</th>\n",
       "    </tr>\n",
       "  </thead>\n",
       "  <tbody>\n",
       "    <tr>\n",
       "      <th>0</th>\n",
       "      <td>1</td>\n",
       "      <td>Google Pixel 5</td>\n",
       "      <td>Android</td>\n",
       "      <td>393</td>\n",
       "      <td>6.4</td>\n",
       "      <td>1872</td>\n",
       "      <td>67</td>\n",
       "      <td>1122</td>\n",
       "      <td>40</td>\n",
       "      <td>Male</td>\n",
       "      <td>4</td>\n",
       "    </tr>\n",
       "    <tr>\n",
       "      <th>1</th>\n",
       "      <td>2</td>\n",
       "      <td>OnePlus 9</td>\n",
       "      <td>Android</td>\n",
       "      <td>268</td>\n",
       "      <td>4.7</td>\n",
       "      <td>1331</td>\n",
       "      <td>42</td>\n",
       "      <td>944</td>\n",
       "      <td>47</td>\n",
       "      <td>Female</td>\n",
       "      <td>3</td>\n",
       "    </tr>\n",
       "    <tr>\n",
       "      <th>2</th>\n",
       "      <td>3</td>\n",
       "      <td>Xiaomi Mi 11</td>\n",
       "      <td>Android</td>\n",
       "      <td>154</td>\n",
       "      <td>4.0</td>\n",
       "      <td>761</td>\n",
       "      <td>32</td>\n",
       "      <td>322</td>\n",
       "      <td>42</td>\n",
       "      <td>Male</td>\n",
       "      <td>2</td>\n",
       "    </tr>\n",
       "    <tr>\n",
       "      <th>3</th>\n",
       "      <td>4</td>\n",
       "      <td>Google Pixel 5</td>\n",
       "      <td>Android</td>\n",
       "      <td>239</td>\n",
       "      <td>4.8</td>\n",
       "      <td>1676</td>\n",
       "      <td>56</td>\n",
       "      <td>871</td>\n",
       "      <td>20</td>\n",
       "      <td>Male</td>\n",
       "      <td>3</td>\n",
       "    </tr>\n",
       "    <tr>\n",
       "      <th>4</th>\n",
       "      <td>5</td>\n",
       "      <td>iPhone 12</td>\n",
       "      <td>iOS</td>\n",
       "      <td>187</td>\n",
       "      <td>4.3</td>\n",
       "      <td>1367</td>\n",
       "      <td>58</td>\n",
       "      <td>988</td>\n",
       "      <td>31</td>\n",
       "      <td>Female</td>\n",
       "      <td>3</td>\n",
       "    </tr>\n",
       "  </tbody>\n",
       "</table>\n",
       "</div>"
      ],
      "text/plain": [
       "   User ID    Device Model Operating System  App Usage Time (min/day)  \\\n",
       "0        1  Google Pixel 5          Android                       393   \n",
       "1        2       OnePlus 9          Android                       268   \n",
       "2        3    Xiaomi Mi 11          Android                       154   \n",
       "3        4  Google Pixel 5          Android                       239   \n",
       "4        5       iPhone 12              iOS                       187   \n",
       "\n",
       "   Screen On Time (hours/day)  Battery Drain (mAh/day)  \\\n",
       "0                         6.4                     1872   \n",
       "1                         4.7                     1331   \n",
       "2                         4.0                      761   \n",
       "3                         4.8                     1676   \n",
       "4                         4.3                     1367   \n",
       "\n",
       "   Number of Apps Installed  Data Usage (MB/day)  Age  Gender  \\\n",
       "0                        67                 1122   40    Male   \n",
       "1                        42                  944   47  Female   \n",
       "2                        32                  322   42    Male   \n",
       "3                        56                  871   20    Male   \n",
       "4                        58                  988   31  Female   \n",
       "\n",
       "   User Behavior Class  \n",
       "0                    4  \n",
       "1                    3  \n",
       "2                    2  \n",
       "3                    3  \n",
       "4                    3  "
      ]
     },
     "execution_count": 70,
     "metadata": {},
     "output_type": "execute_result"
    }
   ],
   "source": [
    "import pandas as pd\n",
    "df=pd.read_csv(\"user_behavior_dataset.csv\")\n",
    "df.head()"
   ]
  },
  {
   "cell_type": "code",
   "execution_count": 71,
   "id": "2aa9e1c0",
   "metadata": {},
   "outputs": [
    {
     "data": {
      "text/plain": [
       "(700, 11)"
      ]
     },
     "execution_count": 71,
     "metadata": {},
     "output_type": "execute_result"
    }
   ],
   "source": [
    "df.shape"
   ]
  },
  {
   "cell_type": "code",
   "execution_count": 72,
   "id": "40bfdbd3",
   "metadata": {},
   "outputs": [
    {
     "data": {
      "text/plain": [
       "np.int64(0)"
      ]
     },
     "execution_count": 72,
     "metadata": {},
     "output_type": "execute_result"
    }
   ],
   "source": [
    "df.isnull().sum().sum()"
   ]
  },
  {
   "cell_type": "code",
   "execution_count": 73,
   "id": "c9896642",
   "metadata": {},
   "outputs": [
    {
     "name": "stdout",
     "output_type": "stream",
     "text": [
      "<class 'pandas.core.frame.DataFrame'>\n",
      "RangeIndex: 700 entries, 0 to 699\n",
      "Data columns (total 11 columns):\n",
      " #   Column                      Non-Null Count  Dtype  \n",
      "---  ------                      --------------  -----  \n",
      " 0   User ID                     700 non-null    int64  \n",
      " 1   Device Model                700 non-null    object \n",
      " 2   Operating System            700 non-null    object \n",
      " 3   App Usage Time (min/day)    700 non-null    int64  \n",
      " 4   Screen On Time (hours/day)  700 non-null    float64\n",
      " 5   Battery Drain (mAh/day)     700 non-null    int64  \n",
      " 6   Number of Apps Installed    700 non-null    int64  \n",
      " 7   Data Usage (MB/day)         700 non-null    int64  \n",
      " 8   Age                         700 non-null    int64  \n",
      " 9   Gender                      700 non-null    object \n",
      " 10  User Behavior Class         700 non-null    int64  \n",
      "dtypes: float64(1), int64(7), object(3)\n",
      "memory usage: 60.3+ KB\n"
     ]
    }
   ],
   "source": [
    "df.info()"
   ]
  },
  {
   "cell_type": "code",
   "execution_count": 74,
   "id": "b20eb09b",
   "metadata": {},
   "outputs": [],
   "source": [
    "from sklearn.preprocessing import LabelEncoder\n",
    "le=LabelEncoder()\n",
    "df['Device Model']=le.fit_transform(df['Device Model'])\n",
    "df['Operating System']=le.fit_transform(df['Operating System'])\n",
    "df['Gender']=le.fit_transform(df['Gender'])\n"
   ]
  },
  {
   "cell_type": "code",
   "execution_count": 75,
   "id": "a2b38e47",
   "metadata": {},
   "outputs": [
    {
     "name": "stdout",
     "output_type": "stream",
     "text": [
      "<class 'pandas.core.frame.DataFrame'>\n",
      "RangeIndex: 700 entries, 0 to 699\n",
      "Data columns (total 11 columns):\n",
      " #   Column                      Non-Null Count  Dtype  \n",
      "---  ------                      --------------  -----  \n",
      " 0   User ID                     700 non-null    int64  \n",
      " 1   Device Model                700 non-null    int64  \n",
      " 2   Operating System            700 non-null    int64  \n",
      " 3   App Usage Time (min/day)    700 non-null    int64  \n",
      " 4   Screen On Time (hours/day)  700 non-null    float64\n",
      " 5   Battery Drain (mAh/day)     700 non-null    int64  \n",
      " 6   Number of Apps Installed    700 non-null    int64  \n",
      " 7   Data Usage (MB/day)         700 non-null    int64  \n",
      " 8   Age                         700 non-null    int64  \n",
      " 9   Gender                      700 non-null    int64  \n",
      " 10  User Behavior Class         700 non-null    int64  \n",
      "dtypes: float64(1), int64(10)\n",
      "memory usage: 60.3 KB\n"
     ]
    }
   ],
   "source": [
    "df.info()"
   ]
  },
  {
   "cell_type": "code",
   "execution_count": 76,
   "id": "ce179199",
   "metadata": {},
   "outputs": [],
   "source": [
    "df.rename(columns={\"Operating System\":\"OS\"},inplace=True)\n",
    "df.rename(columns={\"App Usage Time (min/day)\":\"AUT\"},inplace=True)\n",
    "df.rename(columns={\"Screen On Time (hours/day)\":\"SOT\"},inplace=True)\n",
    "df.rename(columns={\"Battery Drain (mAh/day)\":\"Battery\"},inplace=True)\n",
    "df.rename(columns={\"Number of Apps Installed\":\"NOAI\"},inplace=True)\n",
    "df.rename(columns={\"Data Usage (MB/day)\":\"DU\"},inplace=True)\n",
    "df.rename(columns={\"User Behavior Class\":\"UBC\"},inplace=True)\n"
   ]
  },
  {
   "cell_type": "code",
   "execution_count": 77,
   "id": "f83118d8",
   "metadata": {},
   "outputs": [
    {
     "name": "stdout",
     "output_type": "stream",
     "text": [
      "<class 'pandas.core.frame.DataFrame'>\n",
      "RangeIndex: 700 entries, 0 to 699\n",
      "Data columns (total 11 columns):\n",
      " #   Column        Non-Null Count  Dtype  \n",
      "---  ------        --------------  -----  \n",
      " 0   User ID       700 non-null    int64  \n",
      " 1   Device Model  700 non-null    int64  \n",
      " 2   OS            700 non-null    int64  \n",
      " 3   AUT           700 non-null    int64  \n",
      " 4   SOT           700 non-null    float64\n",
      " 5   Battery       700 non-null    int64  \n",
      " 6   NOAI          700 non-null    int64  \n",
      " 7   DU            700 non-null    int64  \n",
      " 8   Age           700 non-null    int64  \n",
      " 9   Gender        700 non-null    int64  \n",
      " 10  UBC           700 non-null    int64  \n",
      "dtypes: float64(1), int64(10)\n",
      "memory usage: 60.3 KB\n"
     ]
    }
   ],
   "source": [
    "df.info()"
   ]
  },
  {
   "cell_type": "code",
   "execution_count": 78,
   "id": "d0e1242a",
   "metadata": {},
   "outputs": [
    {
     "data": {
      "text/plain": [
       "UBC\n",
       "2    146\n",
       "3    143\n",
       "4    139\n",
       "5    136\n",
       "1    136\n",
       "Name: count, dtype: int64"
      ]
     },
     "execution_count": 78,
     "metadata": {},
     "output_type": "execute_result"
    }
   ],
   "source": [
    "df['UBC'].value_counts()"
   ]
  },
  {
   "cell_type": "code",
   "execution_count": 79,
   "id": "a91ea8d5",
   "metadata": {},
   "outputs": [
    {
     "data": {
      "image/png": "[encoded data removed]",
      "text/plain": [
       "<Figure size 640x480 with 1 Axes>"
      ]
     },
     "metadata": {},
     "output_type": "display_data"
    }
   ],
   "source": [
    "import matplotlib.pyplot as plt\n",
    "import seaborn as sns\n",
    "sns.countplot(x=df[\"UBC\"])\n",
    "plt.show()"
   ]
  },
  {
   "cell_type": "code",
   "execution_count": 80,
   "id": "e323d324",
   "metadata": {},
   "outputs": [],
   "source": [
    "#from imblearn.under_sampling import RandomUnderSampler                      #file\n",
    "from imblearn.over_sampling import SMOTE\n",
    "x=df.drop(columns=\"UBC\",axis=1)\n",
    "y=df[\"UBC\"]\n",
    "smote=SMOTE(sampling_strategy=\"minority\")\n",
    "#smote= RandomUnderSampler(sampling_strategy=\"majority\")               #pip uninstall imbalanced-learn scikit-learn -y\n",
    "x_sm,y_sm=smote.fit_resample(x,y)"
   ]
  },
  {
   "cell_type": "code",
   "execution_count": 81,
   "id": "f08bda46",
   "metadata": {},
   "outputs": [
    {
     "name": "stdout",
     "output_type": "stream",
     "text": [
      "(710, 10)\n",
      "(710,)\n"
     ]
    }
   ],
   "source": [
    "print(x_sm.shape)\n",
    "print(y_sm.shape)"
   ]
  },
  {
   "cell_type": "code",
   "execution_count": 82,
   "id": "427faefa",
   "metadata": {},
   "outputs": [
    {
     "data": {
      "text/plain": [
       "UBC\n",
       "2    146\n",
       "1    146\n",
       "3    143\n",
       "4    139\n",
       "5    136\n",
       "Name: count, dtype: int64"
      ]
     },
     "execution_count": 82,
     "metadata": {},
     "output_type": "execute_result"
    }
   ],
   "source": [
    "y_sm.value_counts()"
   ]
  },
  {
   "cell_type": "code",
   "execution_count": 83,
   "id": "fbf305a6",
   "metadata": {},
   "outputs": [
    {
     "data": {
      "image/png": "[encoded data removed]",
      "text/plain": [
       "<Figure size 640x480 with 1 Axes>"
      ]
     },
     "metadata": {},
     "output_type": "display_data"
    }
   ],
   "source": [
    "import matplotlib.pyplot as plt\n",
    "import seaborn as sns\n",
    "sns.countplot(x=y_sm)\n",
    "plt.show()"
   ]
  },
  {
   "cell_type": "code",
   "execution_count": null,
   "id": "14d34efb",
   "metadata": {},
   "outputs": [],
   "source": []
  },
  {
   "cell_type": "code",
   "execution_count": 84,
   "id": "8a7b5012",
   "metadata": {},
   "outputs": [
    {
     "data": {
      "text/html": [
       "<div>\n",
       "<style scoped>\n",
       "    .dataframe tbody tr th:only-of-type {\n",
       "        vertical-align: middle;\n",
       "    }\n",
       "\n",
       "    .dataframe tbody tr th {\n",
       "        vertical-align: top;\n",
       "    }\n",
       "\n",
       "    .dataframe thead th {\n",
       "        text-align: right;\n",
       "    }\n",
       "</style>\n",
       "<table border=\"1\" class=\"dataframe\">\n",
       "  <thead>\n",
       "    <tr style=\"text-align: right;\">\n",
       "      <th></th>\n",
       "      <th>User ID</th>\n",
       "      <th>Device Model</th>\n",
       "      <th>OS</th>\n",
       "      <th>AUT</th>\n",
       "      <th>SOT</th>\n",
       "      <th>Battery</th>\n",
       "      <th>NOAI</th>\n",
       "      <th>DU</th>\n",
       "      <th>Age</th>\n",
       "      <th>Gender</th>\n",
       "    </tr>\n",
       "  </thead>\n",
       "  <tbody>\n",
       "    <tr>\n",
       "      <th>0</th>\n",
       "      <td>1</td>\n",
       "      <td>0</td>\n",
       "      <td>0</td>\n",
       "      <td>393</td>\n",
       "      <td>6.4</td>\n",
       "      <td>1872</td>\n",
       "      <td>67</td>\n",
       "      <td>1122</td>\n",
       "      <td>40</td>\n",
       "      <td>1</td>\n",
       "    </tr>\n",
       "    <tr>\n",
       "      <th>1</th>\n",
       "      <td>2</td>\n",
       "      <td>1</td>\n",
       "      <td>0</td>\n",
       "      <td>268</td>\n",
       "      <td>4.7</td>\n",
       "      <td>1331</td>\n",
       "      <td>42</td>\n",
       "      <td>944</td>\n",
       "      <td>47</td>\n",
       "      <td>0</td>\n",
       "    </tr>\n",
       "    <tr>\n",
       "      <th>2</th>\n",
       "      <td>3</td>\n",
       "      <td>3</td>\n",
       "      <td>0</td>\n",
       "      <td>154</td>\n",
       "      <td>4.0</td>\n",
       "      <td>761</td>\n",
       "      <td>32</td>\n",
       "      <td>322</td>\n",
       "      <td>42</td>\n",
       "      <td>1</td>\n",
       "    </tr>\n",
       "    <tr>\n",
       "      <th>3</th>\n",
       "      <td>4</td>\n",
       "      <td>0</td>\n",
       "      <td>0</td>\n",
       "      <td>239</td>\n",
       "      <td>4.8</td>\n",
       "      <td>1676</td>\n",
       "      <td>56</td>\n",
       "      <td>871</td>\n",
       "      <td>20</td>\n",
       "      <td>1</td>\n",
       "    </tr>\n",
       "    <tr>\n",
       "      <th>4</th>\n",
       "      <td>5</td>\n",
       "      <td>4</td>\n",
       "      <td>1</td>\n",
       "      <td>187</td>\n",
       "      <td>4.3</td>\n",
       "      <td>1367</td>\n",
       "      <td>58</td>\n",
       "      <td>988</td>\n",
       "      <td>31</td>\n",
       "      <td>0</td>\n",
       "    </tr>\n",
       "    <tr>\n",
       "      <th>...</th>\n",
       "      <td>...</td>\n",
       "      <td>...</td>\n",
       "      <td>...</td>\n",
       "      <td>...</td>\n",
       "      <td>...</td>\n",
       "      <td>...</td>\n",
       "      <td>...</td>\n",
       "      <td>...</td>\n",
       "      <td>...</td>\n",
       "      <td>...</td>\n",
       "    </tr>\n",
       "    <tr>\n",
       "      <th>695</th>\n",
       "      <td>696</td>\n",
       "      <td>4</td>\n",
       "      <td>1</td>\n",
       "      <td>92</td>\n",
       "      <td>3.9</td>\n",
       "      <td>1082</td>\n",
       "      <td>26</td>\n",
       "      <td>381</td>\n",
       "      <td>22</td>\n",
       "      <td>1</td>\n",
       "    </tr>\n",
       "    <tr>\n",
       "      <th>696</th>\n",
       "      <td>697</td>\n",
       "      <td>3</td>\n",
       "      <td>0</td>\n",
       "      <td>316</td>\n",
       "      <td>6.8</td>\n",
       "      <td>1965</td>\n",
       "      <td>68</td>\n",
       "      <td>1201</td>\n",
       "      <td>59</td>\n",
       "      <td>1</td>\n",
       "    </tr>\n",
       "    <tr>\n",
       "      <th>697</th>\n",
       "      <td>698</td>\n",
       "      <td>0</td>\n",
       "      <td>0</td>\n",
       "      <td>99</td>\n",
       "      <td>3.1</td>\n",
       "      <td>942</td>\n",
       "      <td>22</td>\n",
       "      <td>457</td>\n",
       "      <td>50</td>\n",
       "      <td>0</td>\n",
       "    </tr>\n",
       "    <tr>\n",
       "      <th>698</th>\n",
       "      <td>699</td>\n",
       "      <td>2</td>\n",
       "      <td>0</td>\n",
       "      <td>62</td>\n",
       "      <td>1.7</td>\n",
       "      <td>431</td>\n",
       "      <td>13</td>\n",
       "      <td>224</td>\n",
       "      <td>44</td>\n",
       "      <td>1</td>\n",
       "    </tr>\n",
       "    <tr>\n",
       "      <th>699</th>\n",
       "      <td>700</td>\n",
       "      <td>1</td>\n",
       "      <td>0</td>\n",
       "      <td>212</td>\n",
       "      <td>5.4</td>\n",
       "      <td>1306</td>\n",
       "      <td>49</td>\n",
       "      <td>828</td>\n",
       "      <td>23</td>\n",
       "      <td>0</td>\n",
       "    </tr>\n",
       "  </tbody>\n",
       "</table>\n",
       "<p>700 rows × 10 columns</p>\n",
       "</div>"
      ],
      "text/plain": [
       "     User ID  Device Model  OS  AUT  SOT  Battery  NOAI    DU  Age  Gender\n",
       "0          1             0   0  393  6.4     1872    67  1122   40       1\n",
       "1          2             1   0  268  4.7     1331    42   944   47       0\n",
       "2          3             3   0  154  4.0      761    32   322   42       1\n",
       "3          4             0   0  239  4.8     1676    56   871   20       1\n",
       "4          5             4   1  187  4.3     1367    58   988   31       0\n",
       "..       ...           ...  ..  ...  ...      ...   ...   ...  ...     ...\n",
       "695      696             4   1   92  3.9     1082    26   381   22       1\n",
       "696      697             3   0  316  6.8     1965    68  1201   59       1\n",
       "697      698             0   0   99  3.1      942    22   457   50       0\n",
       "698      699             2   0   62  1.7      431    13   224   44       1\n",
       "699      700             1   0  212  5.4     1306    49   828   23       0\n",
       "\n",
       "[700 rows x 10 columns]"
      ]
     },
     "execution_count": 84,
     "metadata": {},
     "output_type": "execute_result"
    }
   ],
   "source": [
    "x=df.drop(columns=\"UBC\",axis=1)\n",
    "\n",
    "y=df[\"UBC\"]\n",
    "x"
   ]
  },
  {
   "cell_type": "code",
   "execution_count": 85,
   "id": "86a67301",
   "metadata": {},
   "outputs": [
    {
     "data": {
      "text/plain": [
       "array([[0.        , 0.        , 0.        , ..., 0.42588727, 0.53658537,\n",
       "        1.        ],\n",
       "       [0.00143062, 0.25      , 0.        , ..., 0.35156576, 0.70731707,\n",
       "        0.        ],\n",
       "       [0.00286123, 0.75      , 0.        , ..., 0.09185804, 0.58536585,\n",
       "        1.        ],\n",
       "       ...,\n",
       "       [0.99713877, 0.        , 0.        , ..., 0.14822547, 0.7804878 ,\n",
       "        0.        ],\n",
       "       [0.99856938, 0.5       , 0.        , ..., 0.05093946, 0.63414634,\n",
       "        1.        ],\n",
       "       [1.        , 0.25      , 0.        , ..., 0.30313152, 0.12195122,\n",
       "        0.        ]], shape=(700, 10))"
      ]
     },
     "execution_count": 85,
     "metadata": {},
     "output_type": "execute_result"
    }
   ],
   "source": [
    "from sklearn.preprocessing import MinMaxScaler\n",
    "scaler=MinMaxScaler()\n",
    "x=scaler.fit_transform(x)\n",
    "x"
   ]
  },
  {
   "cell_type": "code",
   "execution_count": 86,
   "id": "baf2e3bf",
   "metadata": {},
   "outputs": [],
   "source": [
    "from sklearn.svm import SVC\n",
    "from sklearn.model_selection import train_test_split\n",
    "x_train,x_test,y_train,y_test=train_test_split(x,y,test_size=0.2,random_state=45)\n",
    "model=SVC()\n",
    "model.fit(x_train,y_train)\n",
    "y_pred=model.predict(x_test)\n"
   ]
  },
  {
   "cell_type": "code",
   "execution_count": 87,
   "id": "c4fbf57e",
   "metadata": {},
   "outputs": [
    {
     "name": "stdout",
     "output_type": "stream",
     "text": [
      "1.0\n",
      "[[27  0  0  0  0]\n",
      " [ 0 23  0  0  0]\n",
      " [ 0  0 38  0  0]\n",
      " [ 0  0  0 26  0]\n",
      " [ 0  0  0  0 26]]\n",
      "              precision    recall  f1-score   support\n",
      "\n",
      "           1       1.00      1.00      1.00        27\n",
      "           2       1.00      1.00      1.00        23\n",
      "           3       1.00      1.00      1.00        38\n",
      "           4       1.00      1.00      1.00        26\n",
      "           5       1.00      1.00      1.00        26\n",
      "\n",
      "    accuracy                           1.00       140\n",
      "   macro avg       1.00      1.00      1.00       140\n",
      "weighted avg       1.00      1.00      1.00       140\n",
      "\n"
     ]
    }
   ],
   "source": [
    "from sklearn.metrics import accuracy_score,confusion_matrix,classification_report\n",
    "print(accuracy_score(y_test,y_pred))\n",
    "print(confusion_matrix(y_test,y_pred))\n",
    "print(classification_report(y_test,y_pred))"
   ]
  },
  {
   "cell_type": "code",
   "execution_count": 88,
   "id": "ea368d49",
   "metadata": {},
   "outputs": [],
   "source": [
    "model.fit(x_test,y_test)\n",
    "y_pred=model.predict(x_test)"
   ]
  },
  {
   "cell_type": "code",
   "execution_count": 89,
   "id": "a09bfbb1",
   "metadata": {},
   "outputs": [
    {
     "name": "stdout",
     "output_type": "stream",
     "text": [
      "0.9857142857142858\n",
      "[[25  2  0  0  0]\n",
      " [ 0 23  0  0  0]\n",
      " [ 0  0 38  0  0]\n",
      " [ 0  0  0 26  0]\n",
      " [ 0  0  0  0 26]]\n",
      "              precision    recall  f1-score   support\n",
      "\n",
      "           1       1.00      0.93      0.96        27\n",
      "           2       0.92      1.00      0.96        23\n",
      "           3       1.00      1.00      1.00        38\n",
      "           4       1.00      1.00      1.00        26\n",
      "           5       1.00      1.00      1.00        26\n",
      "\n",
      "    accuracy                           0.99       140\n",
      "   macro avg       0.98      0.99      0.98       140\n",
      "weighted avg       0.99      0.99      0.99       140\n",
      "\n"
     ]
    }
   ],
   "source": [
    "print(accuracy_score(y_test,y_pred))\n",
    "print(confusion_matrix(y_test,y_pred))\n",
    "print(classification_report(y_test,y_pred))"
   ]
  },
  {
   "cell_type": "code",
   "execution_count": 96,
   "id": "fd09ea5a",
   "metadata": {},
   "outputs": [],
   "source": [
    "model=SVC(C=50,kernel =\"rbf\",gamma=0.1,shrinking=True)\n",
    "model.fit(x_train,y_train)\n",
    "y_pred=model.predict(x_test)"
   ]
  },
  {
   "cell_type": "code",
   "execution_count": 97,
   "id": "033094cf",
   "metadata": {},
   "outputs": [
    {
     "name": "stdout",
     "output_type": "stream",
     "text": [
      "1.0\n",
      "[[27  0  0  0  0]\n",
      " [ 0 23  0  0  0]\n",
      " [ 0  0 38  0  0]\n",
      " [ 0  0  0 26  0]\n",
      " [ 0  0  0  0 26]]\n",
      "              precision    recall  f1-score   support\n",
      "\n",
      "           1       1.00      1.00      1.00        27\n",
      "           2       1.00      1.00      1.00        23\n",
      "           3       1.00      1.00      1.00        38\n",
      "           4       1.00      1.00      1.00        26\n",
      "           5       1.00      1.00      1.00        26\n",
      "\n",
      "    accuracy                           1.00       140\n",
      "   macro avg       1.00      1.00      1.00       140\n",
      "weighted avg       1.00      1.00      1.00       140\n",
      "\n"
     ]
    }
   ],
   "source": [
    "print(accuracy_score(y_test,y_pred))\n",
    "print(confusion_matrix(y_test,y_pred))\n",
    "print(classification_report(y_test,y_pred))"
   ]
  },
  {
   "cell_type": "code",
   "execution_count": 92,
   "id": "3d345549",
   "metadata": {},
   "outputs": [],
   "source": [
    "model=SVC(C=100,kernel=\"rbf\",gamma=0.1,shrinking=True)\n",
    "model.fit(x_test,y_test)\n",
    "y_pred=model.predict(x_test)"
   ]
  },
  {
   "cell_type": "code",
   "execution_count": 93,
   "id": "09796ae3",
   "metadata": {},
   "outputs": [
    {
     "name": "stdout",
     "output_type": "stream",
     "text": [
      "1.0\n",
      "[[27  0  0  0  0]\n",
      " [ 0 23  0  0  0]\n",
      " [ 0  0 38  0  0]\n",
      " [ 0  0  0 26  0]\n",
      " [ 0  0  0  0 26]]\n",
      "              precision    recall  f1-score   support\n",
      "\n",
      "           1       1.00      1.00      1.00        27\n",
      "           2       1.00      1.00      1.00        23\n",
      "           3       1.00      1.00      1.00        38\n",
      "           4       1.00      1.00      1.00        26\n",
      "           5       1.00      1.00      1.00        26\n",
      "\n",
      "    accuracy                           1.00       140\n",
      "   macro avg       1.00      1.00      1.00       140\n",
      "weighted avg       1.00      1.00      1.00       140\n",
      "\n"
     ]
    }
   ],
   "source": [
    "print(accuracy_score(y_test,y_pred))\n",
    "print(confusion_matrix(y_test,y_pred))\n",
    "print(classification_report(y_test,y_pred))"
   ]
  },
  {
   "cell_type": "code",
   "execution_count": null,
   "id": "80995ecf",
   "metadata": {},
   "outputs": [],
   "source": []
  }
 ],
 "metadata": {
  "kernelspec": {
   "display_name": "Python 3",
   "language": "python",
   "name": "python3"
  },
  "language_info": {
   "codemirror_mode": {
    "name": "ipython",
    "version": 3
   },
   "file_extension": ".py",
   "mimetype": "text/x-python",
   "name": "python",
   "nbconvert_exporter": "python",
   "pygments_lexer": "ipython3",
   "version": "3.13.7"
  }
 },
 "nbformat": 4,
 "nbformat_minor": 5
}
