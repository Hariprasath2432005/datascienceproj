{
 "cells": [
  {
   "cell_type": "code",
   "execution_count": 1,
   "id": "99b1cd08",
   "metadata": {},
   "outputs": [],
   "source": [
    "from imblearn.over_sampling import SMOTE"
   ]
  },
  {
   "cell_type": "code",
   "execution_count": 2,
   "id": "d82b34e5",
   "metadata": {},
   "outputs": [],
   "source": [
    " import pandas as pd"
   ]
  },
  {
   "cell_type": "code",
   "execution_count": 3,
   "id": "10616f3c",
   "metadata": {},
   "outputs": [
    {
     "data": {
      "text/html": [
       "<div>\n",
       "<style scoped>\n",
       "    .dataframe tbody tr th:only-of-type {\n",
       "        vertical-align: middle;\n",
       "    }\n",
       "\n",
       "    .dataframe tbody tr th {\n",
       "        vertical-align: top;\n",
       "    }\n",
       "\n",
       "    .dataframe thead th {\n",
       "        text-align: right;\n",
       "    }\n",
       "</style>\n",
       "<table border=\"1\" class=\"dataframe\">\n",
       "  <thead>\n",
       "    <tr style=\"text-align: right;\">\n",
       "      <th></th>\n",
       "      <th>College_ID</th>\n",
       "      <th>IQ</th>\n",
       "      <th>Prev_Sem_Result</th>\n",
       "      <th>CGPA</th>\n",
       "      <th>Academic_Performance</th>\n",
       "      <th>Internship_Experience</th>\n",
       "      <th>Extra_Curricular_Score</th>\n",
       "      <th>Communication_Skills</th>\n",
       "      <th>Projects_Completed</th>\n",
       "      <th>Placement</th>\n",
       "    </tr>\n",
       "  </thead>\n",
       "  <tbody>\n",
       "    <tr>\n",
       "      <th>0</th>\n",
       "      <td>CLG0030</td>\n",
       "      <td>107</td>\n",
       "      <td>6.61</td>\n",
       "      <td>6.28</td>\n",
       "      <td>8</td>\n",
       "      <td>No</td>\n",
       "      <td>8</td>\n",
       "      <td>8</td>\n",
       "      <td>4</td>\n",
       "      <td>No</td>\n",
       "    </tr>\n",
       "    <tr>\n",
       "      <th>1</th>\n",
       "      <td>CLG0061</td>\n",
       "      <td>97</td>\n",
       "      <td>5.52</td>\n",
       "      <td>5.37</td>\n",
       "      <td>8</td>\n",
       "      <td>No</td>\n",
       "      <td>7</td>\n",
       "      <td>8</td>\n",
       "      <td>0</td>\n",
       "      <td>No</td>\n",
       "    </tr>\n",
       "    <tr>\n",
       "      <th>2</th>\n",
       "      <td>CLG0036</td>\n",
       "      <td>109</td>\n",
       "      <td>5.36</td>\n",
       "      <td>5.83</td>\n",
       "      <td>9</td>\n",
       "      <td>No</td>\n",
       "      <td>3</td>\n",
       "      <td>1</td>\n",
       "      <td>1</td>\n",
       "      <td>No</td>\n",
       "    </tr>\n",
       "    <tr>\n",
       "      <th>3</th>\n",
       "      <td>CLG0055</td>\n",
       "      <td>122</td>\n",
       "      <td>5.47</td>\n",
       "      <td>5.75</td>\n",
       "      <td>6</td>\n",
       "      <td>Yes</td>\n",
       "      <td>1</td>\n",
       "      <td>6</td>\n",
       "      <td>1</td>\n",
       "      <td>No</td>\n",
       "    </tr>\n",
       "    <tr>\n",
       "      <th>4</th>\n",
       "      <td>CLG0004</td>\n",
       "      <td>96</td>\n",
       "      <td>7.91</td>\n",
       "      <td>7.69</td>\n",
       "      <td>7</td>\n",
       "      <td>No</td>\n",
       "      <td>8</td>\n",
       "      <td>10</td>\n",
       "      <td>2</td>\n",
       "      <td>No</td>\n",
       "    </tr>\n",
       "    <tr>\n",
       "      <th>...</th>\n",
       "      <td>...</td>\n",
       "      <td>...</td>\n",
       "      <td>...</td>\n",
       "      <td>...</td>\n",
       "      <td>...</td>\n",
       "      <td>...</td>\n",
       "      <td>...</td>\n",
       "      <td>...</td>\n",
       "      <td>...</td>\n",
       "      <td>...</td>\n",
       "    </tr>\n",
       "    <tr>\n",
       "      <th>9995</th>\n",
       "      <td>CLG0021</td>\n",
       "      <td>119</td>\n",
       "      <td>8.41</td>\n",
       "      <td>8.29</td>\n",
       "      <td>4</td>\n",
       "      <td>No</td>\n",
       "      <td>1</td>\n",
       "      <td>8</td>\n",
       "      <td>0</td>\n",
       "      <td>Yes</td>\n",
       "    </tr>\n",
       "    <tr>\n",
       "      <th>9996</th>\n",
       "      <td>CLG0098</td>\n",
       "      <td>70</td>\n",
       "      <td>9.25</td>\n",
       "      <td>9.34</td>\n",
       "      <td>7</td>\n",
       "      <td>No</td>\n",
       "      <td>0</td>\n",
       "      <td>7</td>\n",
       "      <td>2</td>\n",
       "      <td>No</td>\n",
       "    </tr>\n",
       "    <tr>\n",
       "      <th>9997</th>\n",
       "      <td>CLG0066</td>\n",
       "      <td>89</td>\n",
       "      <td>6.08</td>\n",
       "      <td>6.25</td>\n",
       "      <td>3</td>\n",
       "      <td>Yes</td>\n",
       "      <td>3</td>\n",
       "      <td>9</td>\n",
       "      <td>5</td>\n",
       "      <td>No</td>\n",
       "    </tr>\n",
       "    <tr>\n",
       "      <th>9998</th>\n",
       "      <td>CLG0045</td>\n",
       "      <td>107</td>\n",
       "      <td>8.77</td>\n",
       "      <td>8.92</td>\n",
       "      <td>3</td>\n",
       "      <td>No</td>\n",
       "      <td>7</td>\n",
       "      <td>5</td>\n",
       "      <td>1</td>\n",
       "      <td>No</td>\n",
       "    </tr>\n",
       "    <tr>\n",
       "      <th>9999</th>\n",
       "      <td>CLG0060</td>\n",
       "      <td>109</td>\n",
       "      <td>9.41</td>\n",
       "      <td>9.77</td>\n",
       "      <td>8</td>\n",
       "      <td>No</td>\n",
       "      <td>3</td>\n",
       "      <td>5</td>\n",
       "      <td>5</td>\n",
       "      <td>No</td>\n",
       "    </tr>\n",
       "  </tbody>\n",
       "</table>\n",
       "<p>10000 rows × 10 columns</p>\n",
       "</div>"
      ],
      "text/plain": [
       "     College_ID   IQ  Prev_Sem_Result  CGPA  Academic_Performance  \\\n",
       "0       CLG0030  107             6.61  6.28                     8   \n",
       "1       CLG0061   97             5.52  5.37                     8   \n",
       "2       CLG0036  109             5.36  5.83                     9   \n",
       "3       CLG0055  122             5.47  5.75                     6   \n",
       "4       CLG0004   96             7.91  7.69                     7   \n",
       "...         ...  ...              ...   ...                   ...   \n",
       "9995    CLG0021  119             8.41  8.29                     4   \n",
       "9996    CLG0098   70             9.25  9.34                     7   \n",
       "9997    CLG0066   89             6.08  6.25                     3   \n",
       "9998    CLG0045  107             8.77  8.92                     3   \n",
       "9999    CLG0060  109             9.41  9.77                     8   \n",
       "\n",
       "     Internship_Experience  Extra_Curricular_Score  Communication_Skills  \\\n",
       "0                       No                       8                     8   \n",
       "1                       No                       7                     8   \n",
       "2                       No                       3                     1   \n",
       "3                      Yes                       1                     6   \n",
       "4                       No                       8                    10   \n",
       "...                    ...                     ...                   ...   \n",
       "9995                    No                       1                     8   \n",
       "9996                    No                       0                     7   \n",
       "9997                   Yes                       3                     9   \n",
       "9998                    No                       7                     5   \n",
       "9999                    No                       3                     5   \n",
       "\n",
       "      Projects_Completed Placement  \n",
       "0                      4        No  \n",
       "1                      0        No  \n",
       "2                      1        No  \n",
       "3                      1        No  \n",
       "4                      2        No  \n",
       "...                  ...       ...  \n",
       "9995                   0       Yes  \n",
       "9996                   2        No  \n",
       "9997                   5        No  \n",
       "9998                   1        No  \n",
       "9999                   5        No  \n",
       "\n",
       "[10000 rows x 10 columns]"
      ]
     },
     "execution_count": 3,
     "metadata": {},
     "output_type": "execute_result"
    }
   ],
   "source": [
    "df=pd.read_csv(\"college_student_placement_dataset.csv\")\n",
    "df"
   ]
  },
  {
   "cell_type": "code",
   "execution_count": 4,
   "id": "f3c94127",
   "metadata": {},
   "outputs": [
    {
     "data": {
      "text/plain": [
       "(10000, 10)"
      ]
     },
     "execution_count": 4,
     "metadata": {},
     "output_type": "execute_result"
    }
   ],
   "source": [
    "df.shape"
   ]
  },
  {
   "cell_type": "code",
   "execution_count": 5,
   "id": "c607c482",
   "metadata": {},
   "outputs": [
    {
     "name": "stdout",
     "output_type": "stream",
     "text": [
      "<class 'pandas.core.frame.DataFrame'>\n",
      "RangeIndex: 10000 entries, 0 to 9999\n",
      "Data columns (total 10 columns):\n",
      " #   Column                  Non-Null Count  Dtype  \n",
      "---  ------                  --------------  -----  \n",
      " 0   College_ID              10000 non-null  object \n",
      " 1   IQ                      10000 non-null  int64  \n",
      " 2   Prev_Sem_Result         10000 non-null  float64\n",
      " 3   CGPA                    10000 non-null  float64\n",
      " 4   Academic_Performance    10000 non-null  int64  \n",
      " 5   Internship_Experience   10000 non-null  object \n",
      " 6   Extra_Curricular_Score  10000 non-null  int64  \n",
      " 7   Communication_Skills    10000 non-null  int64  \n",
      " 8   Projects_Completed      10000 non-null  int64  \n",
      " 9   Placement               10000 non-null  object \n",
      "dtypes: float64(2), int64(5), object(3)\n",
      "memory usage: 781.4+ KB\n"
     ]
    }
   ],
   "source": [
    "df.info()"
   ]
  },
  {
   "cell_type": "code",
   "execution_count": 6,
   "id": "7162eeb1",
   "metadata": {},
   "outputs": [
    {
     "data": {
      "text/plain": [
       "College_ID                0\n",
       "IQ                        0\n",
       "Prev_Sem_Result           0\n",
       "CGPA                      0\n",
       "Academic_Performance      0\n",
       "Internship_Experience     0\n",
       "Extra_Curricular_Score    0\n",
       "Communication_Skills      0\n",
       "Projects_Completed        0\n",
       "Placement                 0\n",
       "dtype: int64"
      ]
     },
     "execution_count": 6,
     "metadata": {},
     "output_type": "execute_result"
    }
   ],
   "source": [
    "df.isnull().sum()"
   ]
  },
  {
   "cell_type": "code",
   "execution_count": 7,
   "id": "df2edb62",
   "metadata": {},
   "outputs": [],
   "source": [
    "from sklearn.preprocessing import LabelEncoder\n",
    "le=LabelEncoder()\n"
   ]
  },
  {
   "cell_type": "code",
   "execution_count": 8,
   "id": "95f60670",
   "metadata": {},
   "outputs": [
    {
     "name": "stdout",
     "output_type": "stream",
     "text": [
      "<class 'pandas.core.frame.DataFrame'>\n",
      "RangeIndex: 10000 entries, 0 to 9999\n",
      "Data columns (total 10 columns):\n",
      " #   Column                  Non-Null Count  Dtype  \n",
      "---  ------                  --------------  -----  \n",
      " 0   College_ID              10000 non-null  object \n",
      " 1   IQ                      10000 non-null  int64  \n",
      " 2   Prev_Sem_Result         10000 non-null  float64\n",
      " 3   CGPA                    10000 non-null  float64\n",
      " 4   Academic_Performance    10000 non-null  int64  \n",
      " 5   Internship_Experience   10000 non-null  object \n",
      " 6   Extra_Curricular_Score  10000 non-null  int64  \n",
      " 7   Communication_Skills    10000 non-null  int64  \n",
      " 8   Projects_Completed      10000 non-null  int64  \n",
      " 9   Placement               10000 non-null  object \n",
      "dtypes: float64(2), int64(5), object(3)\n",
      "memory usage: 781.4+ KB\n"
     ]
    }
   ],
   "source": [
    "df.info()"
   ]
  },
  {
   "cell_type": "code",
   "execution_count": 9,
   "id": "a75a30b0",
   "metadata": {},
   "outputs": [],
   "source": [
    "df['College_ID']=le.fit_transform(df['College_ID'])\n",
    "df['Internship_Experience']=le.fit_transform(df['Internship_Experience'])\n",
    "df['Placement']=le.fit_transform(df['Placement'])"
   ]
  },
  {
   "cell_type": "code",
   "execution_count": 10,
   "id": "27889636",
   "metadata": {},
   "outputs": [
    {
     "name": "stdout",
     "output_type": "stream",
     "text": [
      "<class 'pandas.core.frame.DataFrame'>\n",
      "RangeIndex: 10000 entries, 0 to 9999\n",
      "Data columns (total 10 columns):\n",
      " #   Column                  Non-Null Count  Dtype  \n",
      "---  ------                  --------------  -----  \n",
      " 0   College_ID              10000 non-null  int64  \n",
      " 1   IQ                      10000 non-null  int64  \n",
      " 2   Prev_Sem_Result         10000 non-null  float64\n",
      " 3   CGPA                    10000 non-null  float64\n",
      " 4   Academic_Performance    10000 non-null  int64  \n",
      " 5   Internship_Experience   10000 non-null  int64  \n",
      " 6   Extra_Curricular_Score  10000 non-null  int64  \n",
      " 7   Communication_Skills    10000 non-null  int64  \n",
      " 8   Projects_Completed      10000 non-null  int64  \n",
      " 9   Placement               10000 non-null  int64  \n",
      "dtypes: float64(2), int64(8)\n",
      "memory usage: 781.4 KB\n"
     ]
    }
   ],
   "source": [
    "df.info()"
   ]
  },
  {
   "cell_type": "code",
   "execution_count": 11,
   "id": "ff6df1f9",
   "metadata": {},
   "outputs": [
    {
     "data": {
      "text/plain": [
       "np.int64(0)"
      ]
     },
     "execution_count": 11,
     "metadata": {},
     "output_type": "execute_result"
    }
   ],
   "source": [
    "df.duplicated().sum()"
   ]
  },
  {
   "cell_type": "code",
   "execution_count": 12,
   "id": "1388e464",
   "metadata": {},
   "outputs": [
    {
     "data": {
      "text/html": [
       "<div>\n",
       "<style scoped>\n",
       "    .dataframe tbody tr th:only-of-type {\n",
       "        vertical-align: middle;\n",
       "    }\n",
       "\n",
       "    .dataframe tbody tr th {\n",
       "        vertical-align: top;\n",
       "    }\n",
       "\n",
       "    .dataframe thead th {\n",
       "        text-align: right;\n",
       "    }\n",
       "</style>\n",
       "<table border=\"1\" class=\"dataframe\">\n",
       "  <thead>\n",
       "    <tr style=\"text-align: right;\">\n",
       "      <th></th>\n",
       "      <th>College_ID</th>\n",
       "      <th>IQ</th>\n",
       "      <th>Prev_Sem_Result</th>\n",
       "      <th>CGPA</th>\n",
       "      <th>Academic_Performance</th>\n",
       "      <th>Internship_Experience</th>\n",
       "      <th>Extra_Curricular_Score</th>\n",
       "      <th>Communication_Skills</th>\n",
       "      <th>Projects_Completed</th>\n",
       "      <th>Placement</th>\n",
       "    </tr>\n",
       "  </thead>\n",
       "  <tbody>\n",
       "    <tr>\n",
       "      <th>count</th>\n",
       "      <td>10000.00000</td>\n",
       "      <td>10000.000000</td>\n",
       "      <td>10000.000000</td>\n",
       "      <td>10000.000000</td>\n",
       "      <td>10000.000000</td>\n",
       "      <td>10000.000000</td>\n",
       "      <td>10000.000000</td>\n",
       "      <td>10000.000000</td>\n",
       "      <td>10000.000000</td>\n",
       "      <td>10000.000000</td>\n",
       "    </tr>\n",
       "    <tr>\n",
       "      <th>mean</th>\n",
       "      <td>49.70670</td>\n",
       "      <td>99.471800</td>\n",
       "      <td>7.535673</td>\n",
       "      <td>7.532379</td>\n",
       "      <td>5.546400</td>\n",
       "      <td>0.396400</td>\n",
       "      <td>4.970900</td>\n",
       "      <td>5.561800</td>\n",
       "      <td>2.513400</td>\n",
       "      <td>0.165900</td>\n",
       "    </tr>\n",
       "    <tr>\n",
       "      <th>std</th>\n",
       "      <td>28.80141</td>\n",
       "      <td>15.053101</td>\n",
       "      <td>1.447519</td>\n",
       "      <td>1.470141</td>\n",
       "      <td>2.873477</td>\n",
       "      <td>0.489174</td>\n",
       "      <td>3.160103</td>\n",
       "      <td>2.900866</td>\n",
       "      <td>1.715959</td>\n",
       "      <td>0.372009</td>\n",
       "    </tr>\n",
       "    <tr>\n",
       "      <th>min</th>\n",
       "      <td>0.00000</td>\n",
       "      <td>41.000000</td>\n",
       "      <td>5.000000</td>\n",
       "      <td>4.540000</td>\n",
       "      <td>1.000000</td>\n",
       "      <td>0.000000</td>\n",
       "      <td>0.000000</td>\n",
       "      <td>1.000000</td>\n",
       "      <td>0.000000</td>\n",
       "      <td>0.000000</td>\n",
       "    </tr>\n",
       "    <tr>\n",
       "      <th>25%</th>\n",
       "      <td>25.00000</td>\n",
       "      <td>89.000000</td>\n",
       "      <td>6.290000</td>\n",
       "      <td>6.290000</td>\n",
       "      <td>3.000000</td>\n",
       "      <td>0.000000</td>\n",
       "      <td>2.000000</td>\n",
       "      <td>3.000000</td>\n",
       "      <td>1.000000</td>\n",
       "      <td>0.000000</td>\n",
       "    </tr>\n",
       "    <tr>\n",
       "      <th>50%</th>\n",
       "      <td>50.00000</td>\n",
       "      <td>99.000000</td>\n",
       "      <td>7.560000</td>\n",
       "      <td>7.550000</td>\n",
       "      <td>6.000000</td>\n",
       "      <td>0.000000</td>\n",
       "      <td>5.000000</td>\n",
       "      <td>6.000000</td>\n",
       "      <td>3.000000</td>\n",
       "      <td>0.000000</td>\n",
       "    </tr>\n",
       "    <tr>\n",
       "      <th>75%</th>\n",
       "      <td>74.00000</td>\n",
       "      <td>110.000000</td>\n",
       "      <td>8.790000</td>\n",
       "      <td>8.770000</td>\n",
       "      <td>8.000000</td>\n",
       "      <td>1.000000</td>\n",
       "      <td>8.000000</td>\n",
       "      <td>8.000000</td>\n",
       "      <td>4.000000</td>\n",
       "      <td>0.000000</td>\n",
       "    </tr>\n",
       "    <tr>\n",
       "      <th>max</th>\n",
       "      <td>99.00000</td>\n",
       "      <td>158.000000</td>\n",
       "      <td>10.000000</td>\n",
       "      <td>10.460000</td>\n",
       "      <td>10.000000</td>\n",
       "      <td>1.000000</td>\n",
       "      <td>10.000000</td>\n",
       "      <td>10.000000</td>\n",
       "      <td>5.000000</td>\n",
       "      <td>1.000000</td>\n",
       "    </tr>\n",
       "  </tbody>\n",
       "</table>\n",
       "</div>"
      ],
      "text/plain": [
       "        College_ID            IQ  Prev_Sem_Result          CGPA  \\\n",
       "count  10000.00000  10000.000000     10000.000000  10000.000000   \n",
       "mean      49.70670     99.471800         7.535673      7.532379   \n",
       "std       28.80141     15.053101         1.447519      1.470141   \n",
       "min        0.00000     41.000000         5.000000      4.540000   \n",
       "25%       25.00000     89.000000         6.290000      6.290000   \n",
       "50%       50.00000     99.000000         7.560000      7.550000   \n",
       "75%       74.00000    110.000000         8.790000      8.770000   \n",
       "max       99.00000    158.000000        10.000000     10.460000   \n",
       "\n",
       "       Academic_Performance  Internship_Experience  Extra_Curricular_Score  \\\n",
       "count          10000.000000           10000.000000            10000.000000   \n",
       "mean               5.546400               0.396400                4.970900   \n",
       "std                2.873477               0.489174                3.160103   \n",
       "min                1.000000               0.000000                0.000000   \n",
       "25%                3.000000               0.000000                2.000000   \n",
       "50%                6.000000               0.000000                5.000000   \n",
       "75%                8.000000               1.000000                8.000000   \n",
       "max               10.000000               1.000000               10.000000   \n",
       "\n",
       "       Communication_Skills  Projects_Completed     Placement  \n",
       "count          10000.000000        10000.000000  10000.000000  \n",
       "mean               5.561800            2.513400      0.165900  \n",
       "std                2.900866            1.715959      0.372009  \n",
       "min                1.000000            0.000000      0.000000  \n",
       "25%                3.000000            1.000000      0.000000  \n",
       "50%                6.000000            3.000000      0.000000  \n",
       "75%                8.000000            4.000000      0.000000  \n",
       "max               10.000000            5.000000      1.000000  "
      ]
     },
     "execution_count": 12,
     "metadata": {},
     "output_type": "execute_result"
    }
   ],
   "source": [
    "df.describe()"
   ]
  },
  {
   "cell_type": "code",
   "execution_count": 13,
   "id": "6e7fce93",
   "metadata": {},
   "outputs": [
    {
     "data": {
      "text/plain": [
       "Index(['College_ID', 'IQ', 'Prev_Sem_Result', 'CGPA', 'Academic_Performance',\n",
       "       'Internship_Experience', 'Extra_Curricular_Score',\n",
       "       'Communication_Skills', 'Projects_Completed', 'Placement'],\n",
       "      dtype='object')"
      ]
     },
     "execution_count": 13,
     "metadata": {},
     "output_type": "execute_result"
    }
   ],
   "source": [
    "df.columns"
   ]
  },
  {
   "cell_type": "code",
   "execution_count": 14,
   "id": "ec5afdeb",
   "metadata": {},
   "outputs": [
    {
     "data": {
      "text/html": [
       "<div>\n",
       "<style scoped>\n",
       "    .dataframe tbody tr th:only-of-type {\n",
       "        vertical-align: middle;\n",
       "    }\n",
       "\n",
       "    .dataframe tbody tr th {\n",
       "        vertical-align: top;\n",
       "    }\n",
       "\n",
       "    .dataframe thead th {\n",
       "        text-align: right;\n",
       "    }\n",
       "</style>\n",
       "<table border=\"1\" class=\"dataframe\">\n",
       "  <thead>\n",
       "    <tr style=\"text-align: right;\">\n",
       "      <th></th>\n",
       "      <th>College_ID</th>\n",
       "      <th>IQ</th>\n",
       "      <th>Prev_Sem_Result</th>\n",
       "      <th>CGPA</th>\n",
       "      <th>per</th>\n",
       "      <th>intern</th>\n",
       "      <th>score</th>\n",
       "      <th>skill</th>\n",
       "      <th>project</th>\n",
       "      <th>Placement</th>\n",
       "    </tr>\n",
       "  </thead>\n",
       "  <tbody>\n",
       "    <tr>\n",
       "      <th>0</th>\n",
       "      <td>29</td>\n",
       "      <td>107</td>\n",
       "      <td>6.61</td>\n",
       "      <td>6.28</td>\n",
       "      <td>8</td>\n",
       "      <td>0</td>\n",
       "      <td>8</td>\n",
       "      <td>8</td>\n",
       "      <td>4</td>\n",
       "      <td>0</td>\n",
       "    </tr>\n",
       "    <tr>\n",
       "      <th>1</th>\n",
       "      <td>60</td>\n",
       "      <td>97</td>\n",
       "      <td>5.52</td>\n",
       "      <td>5.37</td>\n",
       "      <td>8</td>\n",
       "      <td>0</td>\n",
       "      <td>7</td>\n",
       "      <td>8</td>\n",
       "      <td>0</td>\n",
       "      <td>0</td>\n",
       "    </tr>\n",
       "    <tr>\n",
       "      <th>2</th>\n",
       "      <td>35</td>\n",
       "      <td>109</td>\n",
       "      <td>5.36</td>\n",
       "      <td>5.83</td>\n",
       "      <td>9</td>\n",
       "      <td>0</td>\n",
       "      <td>3</td>\n",
       "      <td>1</td>\n",
       "      <td>1</td>\n",
       "      <td>0</td>\n",
       "    </tr>\n",
       "    <tr>\n",
       "      <th>3</th>\n",
       "      <td>54</td>\n",
       "      <td>122</td>\n",
       "      <td>5.47</td>\n",
       "      <td>5.75</td>\n",
       "      <td>6</td>\n",
       "      <td>1</td>\n",
       "      <td>1</td>\n",
       "      <td>6</td>\n",
       "      <td>1</td>\n",
       "      <td>0</td>\n",
       "    </tr>\n",
       "    <tr>\n",
       "      <th>4</th>\n",
       "      <td>3</td>\n",
       "      <td>96</td>\n",
       "      <td>7.91</td>\n",
       "      <td>7.69</td>\n",
       "      <td>7</td>\n",
       "      <td>0</td>\n",
       "      <td>8</td>\n",
       "      <td>10</td>\n",
       "      <td>2</td>\n",
       "      <td>0</td>\n",
       "    </tr>\n",
       "  </tbody>\n",
       "</table>\n",
       "</div>"
      ],
      "text/plain": [
       "   College_ID   IQ  Prev_Sem_Result  CGPA  per  intern  score  skill  project  \\\n",
       "0          29  107             6.61  6.28    8       0      8      8        4   \n",
       "1          60   97             5.52  5.37    8       0      7      8        0   \n",
       "2          35  109             5.36  5.83    9       0      3      1        1   \n",
       "3          54  122             5.47  5.75    6       1      1      6        1   \n",
       "4           3   96             7.91  7.69    7       0      8     10        2   \n",
       "\n",
       "   Placement  \n",
       "0          0  \n",
       "1          0  \n",
       "2          0  \n",
       "3          0  \n",
       "4          0  "
      ]
     },
     "execution_count": 14,
     "metadata": {},
     "output_type": "execute_result"
    }
   ],
   "source": [
    "df.rename(columns={\"Academic_Performance\":\"per\"},inplace=True)\n",
    "df.rename(columns={\"Internship_Experience\":\"intern\"},inplace=True)\n",
    "df.rename(columns={\"Extra_Curricular_Score\":\"score\"},inplace=True)\n",
    "df.rename(columns={\"Communication_Skills\":\"skill\"},inplace=True)\n",
    "df.rename(columns={\"Projects_Completed\":\"project\"},inplace=True)\n",
    "df.head()"
   ]
  },
  {
   "cell_type": "code",
   "execution_count": 15,
   "id": "69fca338",
   "metadata": {},
   "outputs": [
    {
     "data": {
      "text/plain": [
       "Placement\n",
       "0    8341\n",
       "1    1659\n",
       "Name: count, dtype: int64"
      ]
     },
     "execution_count": 15,
     "metadata": {},
     "output_type": "execute_result"
    }
   ],
   "source": [
    "df['Placement'].value_counts()"
   ]
  },
  {
   "cell_type": "code",
   "execution_count": 16,
   "id": "29e659c3",
   "metadata": {},
   "outputs": [
    {
     "data": {
      "image/png": "[encoded data removed]",
      "text/plain": [
       "<Figure size 640x480 with 1 Axes>"
      ]
     },
     "metadata": {},
     "output_type": "display_data"
    }
   ],
   "source": [
    "import matplotlib.pyplot as plt\n",
    "import seaborn as sns\n",
    "sns.countplot(x=df[\"Placement\"])\n",
    "plt.show()"
   ]
  },
  {
   "cell_type": "code",
   "execution_count": 17,
   "id": "b8ceb87f",
   "metadata": {},
   "outputs": [],
   "source": [
    "x=df.drop(columns=\"Placement\",axis=1)\n",
    "y=df[\"Placement\"]\n",
    "smote=SMOTE(sampling_strategy=\"minority\")\n",
    "#smote= RandomUnderSampler(sampling_strategy=\"majority\")                   #pip uninstall imbalanced-learn scikit-learn -y\n",
    "x_sm,y_sm=smote.fit_resample(x,y)  "
   ]
  },
  {
   "cell_type": "code",
   "execution_count": 18,
   "id": "cbc25b2e",
   "metadata": {},
   "outputs": [
    {
     "name": "stdout",
     "output_type": "stream",
     "text": [
      "(16682, 9)\n",
      "(16682,)\n"
     ]
    }
   ],
   "source": [
    "print(x_sm.shape)\n",
    "print(y_sm.shape)"
   ]
  },
  {
   "cell_type": "code",
   "execution_count": 19,
   "id": "b00b44da",
   "metadata": {},
   "outputs": [
    {
     "data": {
      "text/plain": [
       "Placement\n",
       "0    8341\n",
       "1    8341\n",
       "Name: count, dtype: int64"
      ]
     },
     "execution_count": 19,
     "metadata": {},
     "output_type": "execute_result"
    }
   ],
   "source": [
    "y_sm.value_counts()"
   ]
  },
  {
   "cell_type": "code",
   "execution_count": 20,
   "id": "6f59562d",
   "metadata": {},
   "outputs": [
    {
     "data": {
      "image/png": "[encoded data removed]",
      "text/plain": [
       "<Figure size 640x480 with 1 Axes>"
      ]
     },
     "metadata": {},
     "output_type": "display_data"
    }
   ],
   "source": [
    "import matplotlib.pyplot as plt\n",
    "import seaborn as sns\n",
    "sns.countplot(x=y_sm)\n",
    "plt.show()"
   ]
  },
  {
   "cell_type": "code",
   "execution_count": 21,
   "id": "5521d177",
   "metadata": {},
   "outputs": [
    {
     "name": "stdout",
     "output_type": "stream",
     "text": [
      "      College_ID   IQ  Prev_Sem_Result  CGPA  per  intern  score  skill  \\\n",
      "0             29  107             6.61  6.28    8       0      8      8   \n",
      "1             60   97             5.52  5.37    8       0      7      8   \n",
      "2             35  109             5.36  5.83    9       0      3      1   \n",
      "3             54  122             5.47  5.75    6       1      1      6   \n",
      "4              3   96             7.91  7.69    7       0      8     10   \n",
      "...          ...  ...              ...   ...  ...     ...    ...    ...   \n",
      "9995          20  119             8.41  8.29    4       0      1      8   \n",
      "9996          97   70             9.25  9.34    7       0      0      7   \n",
      "9997          65   89             6.08  6.25    3       1      3      9   \n",
      "9998          44  107             8.77  8.92    3       0      7      5   \n",
      "9999          59  109             9.41  9.77    8       0      3      5   \n",
      "\n",
      "      project  \n",
      "0           4  \n",
      "1           0  \n",
      "2           1  \n",
      "3           1  \n",
      "4           2  \n",
      "...       ...  \n",
      "9995        0  \n",
      "9996        2  \n",
      "9997        5  \n",
      "9998        1  \n",
      "9999        5  \n",
      "\n",
      "[10000 rows x 9 columns]\n",
      "0       0\n",
      "1       0\n",
      "2       0\n",
      "3       0\n",
      "4       0\n",
      "       ..\n",
      "9995    1\n",
      "9996    0\n",
      "9997    0\n",
      "9998    0\n",
      "9999    0\n",
      "Name: Placement, Length: 10000, dtype: int64\n"
     ]
    }
   ],
   "source": [
    "a=df.drop(['Placement'],axis=1)\n",
    "b=df['Placement']\n",
    "print(a)\n",
    "print(b)"
   ]
  },
  {
   "cell_type": "code",
   "execution_count": 22,
   "id": "9c70100b",
   "metadata": {},
   "outputs": [
    {
     "data": {
      "text/plain": [
       "array([[0.29292929, 0.56410256, 0.322     , ..., 0.8       , 0.77777778,\n",
       "        0.8       ],\n",
       "       [0.60606061, 0.47863248, 0.104     , ..., 0.7       , 0.77777778,\n",
       "        0.        ],\n",
       "       [0.35353535, 0.58119658, 0.072     , ..., 0.3       , 0.        ,\n",
       "        0.2       ],\n",
       "       ...,\n",
       "       [0.65656566, 0.41025641, 0.216     , ..., 0.3       , 0.88888889,\n",
       "        1.        ],\n",
       "       [0.44444444, 0.56410256, 0.754     , ..., 0.7       , 0.44444444,\n",
       "        0.2       ],\n",
       "       [0.5959596 , 0.58119658, 0.882     , ..., 0.3       , 0.44444444,\n",
       "        1.        ]], shape=(10000, 9))"
      ]
     },
     "execution_count": 22,
     "metadata": {},
     "output_type": "execute_result"
    }
   ],
   "source": [
    "from sklearn.preprocessing import MinMaxScaler\n",
    "scaler=MinMaxScaler()\n",
    "x=scaler.fit_transform(x)\n",
    "x"
   ]
  },
  {
   "cell_type": "code",
   "execution_count": 23,
   "id": "bcc4f383",
   "metadata": {},
   "outputs": [
    {
     "name": "stdout",
     "output_type": "stream",
     "text": [
      "0.9255\n",
      "[[1628   40]\n",
      " [ 109  223]]\n",
      "              precision    recall  f1-score   support\n",
      "\n",
      "           0       0.94      0.98      0.96      1668\n",
      "           1       0.85      0.67      0.75       332\n",
      "\n",
      "    accuracy                           0.93      2000\n",
      "   macro avg       0.89      0.82      0.85      2000\n",
      "weighted avg       0.92      0.93      0.92      2000\n",
      "\n"
     ]
    }
   ],
   "source": [
    "from sklearn.svm import SVC\n",
    "from sklearn.model_selection import train_test_split\n",
    "x_train,x_test,y_train,y_test=train_test_split(x,y,test_size=0.2,random_state=45)\n",
    "model=SVC()\n",
    "model.fit(x_train,y_train)\n",
    "y_pred=model.predict(x_test)\n",
    "from sklearn.metrics import accuracy_score,confusion_matrix,classification_report\n",
    "print(accuracy_score(y_test,y_pred))\n",
    "print(confusion_matrix(y_test,y_pred))\n",
    "print(classification_report(y_test,y_pred))"
   ]
  },
  {
   "cell_type": "code",
   "execution_count": 24,
   "id": "028732d1",
   "metadata": {},
   "outputs": [
    {
     "name": "stdout",
     "output_type": "stream",
     "text": [
      "0.934\n",
      "[[1641   27]\n",
      " [ 105  227]]\n",
      "              precision    recall  f1-score   support\n",
      "\n",
      "           0       0.94      0.98      0.96      1668\n",
      "           1       0.89      0.68      0.77       332\n",
      "\n",
      "    accuracy                           0.93      2000\n",
      "   macro avg       0.92      0.83      0.87      2000\n",
      "weighted avg       0.93      0.93      0.93      2000\n",
      "\n"
     ]
    }
   ],
   "source": [
    "model.fit(x_test,y_test)\n",
    "y_pred=model.predict(x_test)\n",
    "from sklearn.metrics import accuracy_score,confusion_matrix,classification_report\n",
    "print(accuracy_score(y_test,y_pred))\n",
    "print(confusion_matrix(y_test,y_pred))\n",
    "print(classification_report(y_test,y_pred))"
   ]
  },
  {
   "cell_type": "code",
   "execution_count": null,
   "id": "ae84e454",
   "metadata": {},
   "outputs": [],
   "source": []
  }
 ],
 "metadata": {
  "kernelspec": {
   "display_name": "Python 3",
   "language": "python",
   "name": "python3"
  },
  "language_info": {
   "codemirror_mode": {
    "name": "ipython",
    "version": 3
   },
   "file_extension": ".py",
   "mimetype": "text/x-python",
   "name": "python",
   "nbconvert_exporter": "python",
   "pygments_lexer": "ipython3",
   "version": "3.13.7"
  }
 },
 "nbformat": 4,
 "nbformat_minor": 5
}
