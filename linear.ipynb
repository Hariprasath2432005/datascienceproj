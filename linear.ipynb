{
 "cells": [
  {
   "cell_type": "code",
   "execution_count": 1,
   "id": "32dd779f",
   "metadata": {},
   "outputs": [],
   "source": [
    "import pandas as pd"
   ]
  },
  {
   "cell_type": "code",
   "execution_count": 2,
   "id": "c85ddd9d",
   "metadata": {},
   "outputs": [
    {
     "data": {
      "text/html": [
       "<div>\n",
       "<style scoped>\n",
       "    .dataframe tbody tr th:only-of-type {\n",
       "        vertical-align: middle;\n",
       "    }\n",
       "\n",
       "    .dataframe tbody tr th {\n",
       "        vertical-align: top;\n",
       "    }\n",
       "\n",
       "    .dataframe thead th {\n",
       "        text-align: right;\n",
       "    }\n",
       "</style>\n",
       "<table border=\"1\" class=\"dataframe\">\n",
       "  <thead>\n",
       "    <tr style=\"text-align: right;\">\n",
       "      <th></th>\n",
       "      <th>Make</th>\n",
       "      <th>Model</th>\n",
       "      <th>Price</th>\n",
       "      <th>Year</th>\n",
       "      <th>Kilometer</th>\n",
       "      <th>Fuel Type</th>\n",
       "      <th>Transmission</th>\n",
       "      <th>Location</th>\n",
       "      <th>Color</th>\n",
       "      <th>Owner</th>\n",
       "      <th>Seller Type</th>\n",
       "      <th>Engine</th>\n",
       "      <th>Max Power</th>\n",
       "      <th>Max Torque</th>\n",
       "      <th>Drivetrain</th>\n",
       "      <th>Length</th>\n",
       "      <th>Width</th>\n",
       "      <th>Height</th>\n",
       "      <th>Seating Capacity</th>\n",
       "      <th>Fuel Tank Capacity</th>\n",
       "    </tr>\n",
       "  </thead>\n",
       "  <tbody>\n",
       "    <tr>\n",
       "      <th>0</th>\n",
       "      <td>Honda</td>\n",
       "      <td>Amaze 1.2 VX i-VTEC</td>\n",
       "      <td>505000</td>\n",
       "      <td>2017</td>\n",
       "      <td>87150</td>\n",
       "      <td>Petrol</td>\n",
       "      <td>Manual</td>\n",
       "      <td>Pune</td>\n",
       "      <td>Grey</td>\n",
       "      <td>First</td>\n",
       "      <td>Corporate</td>\n",
       "      <td>1198 cc</td>\n",
       "      <td>87 bhp @ 6000 rpm</td>\n",
       "      <td>109 Nm @ 4500 rpm</td>\n",
       "      <td>FWD</td>\n",
       "      <td>3990.0</td>\n",
       "      <td>1680.0</td>\n",
       "      <td>1505.0</td>\n",
       "      <td>5.0</td>\n",
       "      <td>35.0</td>\n",
       "    </tr>\n",
       "    <tr>\n",
       "      <th>1</th>\n",
       "      <td>Maruti Suzuki</td>\n",
       "      <td>Swift DZire VDI</td>\n",
       "      <td>450000</td>\n",
       "      <td>2014</td>\n",
       "      <td>75000</td>\n",
       "      <td>Diesel</td>\n",
       "      <td>Manual</td>\n",
       "      <td>Ludhiana</td>\n",
       "      <td>White</td>\n",
       "      <td>Second</td>\n",
       "      <td>Individual</td>\n",
       "      <td>1248 cc</td>\n",
       "      <td>74 bhp @ 4000 rpm</td>\n",
       "      <td>190 Nm @ 2000 rpm</td>\n",
       "      <td>FWD</td>\n",
       "      <td>3995.0</td>\n",
       "      <td>1695.0</td>\n",
       "      <td>1555.0</td>\n",
       "      <td>5.0</td>\n",
       "      <td>42.0</td>\n",
       "    </tr>\n",
       "    <tr>\n",
       "      <th>2</th>\n",
       "      <td>Hyundai</td>\n",
       "      <td>i10 Magna 1.2 Kappa2</td>\n",
       "      <td>220000</td>\n",
       "      <td>2011</td>\n",
       "      <td>67000</td>\n",
       "      <td>Petrol</td>\n",
       "      <td>Manual</td>\n",
       "      <td>Lucknow</td>\n",
       "      <td>Maroon</td>\n",
       "      <td>First</td>\n",
       "      <td>Individual</td>\n",
       "      <td>1197 cc</td>\n",
       "      <td>79 bhp @ 6000 rpm</td>\n",
       "      <td>112.7619 Nm @ 4000 rpm</td>\n",
       "      <td>FWD</td>\n",
       "      <td>3585.0</td>\n",
       "      <td>1595.0</td>\n",
       "      <td>1550.0</td>\n",
       "      <td>5.0</td>\n",
       "      <td>35.0</td>\n",
       "    </tr>\n",
       "    <tr>\n",
       "      <th>3</th>\n",
       "      <td>Toyota</td>\n",
       "      <td>Glanza G</td>\n",
       "      <td>799000</td>\n",
       "      <td>2019</td>\n",
       "      <td>37500</td>\n",
       "      <td>Petrol</td>\n",
       "      <td>Manual</td>\n",
       "      <td>Mangalore</td>\n",
       "      <td>Red</td>\n",
       "      <td>First</td>\n",
       "      <td>Individual</td>\n",
       "      <td>1197 cc</td>\n",
       "      <td>82 bhp @ 6000 rpm</td>\n",
       "      <td>113 Nm @ 4200 rpm</td>\n",
       "      <td>FWD</td>\n",
       "      <td>3995.0</td>\n",
       "      <td>1745.0</td>\n",
       "      <td>1510.0</td>\n",
       "      <td>5.0</td>\n",
       "      <td>37.0</td>\n",
       "    </tr>\n",
       "    <tr>\n",
       "      <th>4</th>\n",
       "      <td>Toyota</td>\n",
       "      <td>Innova 2.4 VX 7 STR [2016-2020]</td>\n",
       "      <td>1950000</td>\n",
       "      <td>2018</td>\n",
       "      <td>69000</td>\n",
       "      <td>Diesel</td>\n",
       "      <td>Manual</td>\n",
       "      <td>Mumbai</td>\n",
       "      <td>Grey</td>\n",
       "      <td>First</td>\n",
       "      <td>Individual</td>\n",
       "      <td>2393 cc</td>\n",
       "      <td>148 bhp @ 3400 rpm</td>\n",
       "      <td>343 Nm @ 1400 rpm</td>\n",
       "      <td>RWD</td>\n",
       "      <td>4735.0</td>\n",
       "      <td>1830.0</td>\n",
       "      <td>1795.0</td>\n",
       "      <td>7.0</td>\n",
       "      <td>55.0</td>\n",
       "    </tr>\n",
       "    <tr>\n",
       "      <th>...</th>\n",
       "      <td>...</td>\n",
       "      <td>...</td>\n",
       "      <td>...</td>\n",
       "      <td>...</td>\n",
       "      <td>...</td>\n",
       "      <td>...</td>\n",
       "      <td>...</td>\n",
       "      <td>...</td>\n",
       "      <td>...</td>\n",
       "      <td>...</td>\n",
       "      <td>...</td>\n",
       "      <td>...</td>\n",
       "      <td>...</td>\n",
       "      <td>...</td>\n",
       "      <td>...</td>\n",
       "      <td>...</td>\n",
       "      <td>...</td>\n",
       "      <td>...</td>\n",
       "      <td>...</td>\n",
       "      <td>...</td>\n",
       "    </tr>\n",
       "    <tr>\n",
       "      <th>2054</th>\n",
       "      <td>Mahindra</td>\n",
       "      <td>XUV500 W8 [2015-2017]</td>\n",
       "      <td>850000</td>\n",
       "      <td>2016</td>\n",
       "      <td>90300</td>\n",
       "      <td>Diesel</td>\n",
       "      <td>Manual</td>\n",
       "      <td>Surat</td>\n",
       "      <td>White</td>\n",
       "      <td>First</td>\n",
       "      <td>Individual</td>\n",
       "      <td>2179 cc</td>\n",
       "      <td>138 bhp @ 3750 rpm</td>\n",
       "      <td>330 Nm @ 1600 rpm</td>\n",
       "      <td>FWD</td>\n",
       "      <td>4585.0</td>\n",
       "      <td>1890.0</td>\n",
       "      <td>1785.0</td>\n",
       "      <td>7.0</td>\n",
       "      <td>70.0</td>\n",
       "    </tr>\n",
       "    <tr>\n",
       "      <th>2055</th>\n",
       "      <td>Hyundai</td>\n",
       "      <td>Eon D-Lite +</td>\n",
       "      <td>275000</td>\n",
       "      <td>2014</td>\n",
       "      <td>83000</td>\n",
       "      <td>Petrol</td>\n",
       "      <td>Manual</td>\n",
       "      <td>Ahmedabad</td>\n",
       "      <td>White</td>\n",
       "      <td>Second</td>\n",
       "      <td>Individual</td>\n",
       "      <td>814 cc</td>\n",
       "      <td>55 bhp @ 5500 rpm</td>\n",
       "      <td>75 Nm @ 4000 rpm</td>\n",
       "      <td>FWD</td>\n",
       "      <td>3495.0</td>\n",
       "      <td>1550.0</td>\n",
       "      <td>1500.0</td>\n",
       "      <td>5.0</td>\n",
       "      <td>32.0</td>\n",
       "    </tr>\n",
       "    <tr>\n",
       "      <th>2056</th>\n",
       "      <td>Ford</td>\n",
       "      <td>Figo Duratec Petrol ZXI 1.2</td>\n",
       "      <td>240000</td>\n",
       "      <td>2013</td>\n",
       "      <td>73000</td>\n",
       "      <td>Petrol</td>\n",
       "      <td>Manual</td>\n",
       "      <td>Thane</td>\n",
       "      <td>Silver</td>\n",
       "      <td>First</td>\n",
       "      <td>Individual</td>\n",
       "      <td>1196 cc</td>\n",
       "      <td>70 bhp @ 6250 rpm</td>\n",
       "      <td>102 Nm @ 4000 rpm</td>\n",
       "      <td>FWD</td>\n",
       "      <td>3795.0</td>\n",
       "      <td>1680.0</td>\n",
       "      <td>1427.0</td>\n",
       "      <td>5.0</td>\n",
       "      <td>45.0</td>\n",
       "    </tr>\n",
       "    <tr>\n",
       "      <th>2057</th>\n",
       "      <td>BMW</td>\n",
       "      <td>5-Series 520d Luxury Line [2017-2019]</td>\n",
       "      <td>4290000</td>\n",
       "      <td>2018</td>\n",
       "      <td>60474</td>\n",
       "      <td>Diesel</td>\n",
       "      <td>Automatic</td>\n",
       "      <td>Coimbatore</td>\n",
       "      <td>White</td>\n",
       "      <td>First</td>\n",
       "      <td>Individual</td>\n",
       "      <td>1995 cc</td>\n",
       "      <td>188 bhp @ 4000 rpm</td>\n",
       "      <td>400 Nm @ 1750 rpm</td>\n",
       "      <td>RWD</td>\n",
       "      <td>4936.0</td>\n",
       "      <td>1868.0</td>\n",
       "      <td>1479.0</td>\n",
       "      <td>5.0</td>\n",
       "      <td>65.0</td>\n",
       "    </tr>\n",
       "    <tr>\n",
       "      <th>2058</th>\n",
       "      <td>Mahindra</td>\n",
       "      <td>Bolero Power Plus ZLX [2016-2019]</td>\n",
       "      <td>670000</td>\n",
       "      <td>2017</td>\n",
       "      <td>72000</td>\n",
       "      <td>Diesel</td>\n",
       "      <td>Manual</td>\n",
       "      <td>Guwahati</td>\n",
       "      <td>White</td>\n",
       "      <td>First</td>\n",
       "      <td>Individual</td>\n",
       "      <td>1493 cc</td>\n",
       "      <td>70 bhp @ 3600 rpm</td>\n",
       "      <td>195 Nm @ 1400 rpm</td>\n",
       "      <td>RWD</td>\n",
       "      <td>3995.0</td>\n",
       "      <td>1745.0</td>\n",
       "      <td>1880.0</td>\n",
       "      <td>7.0</td>\n",
       "      <td>NaN</td>\n",
       "    </tr>\n",
       "  </tbody>\n",
       "</table>\n",
       "<p>2059 rows × 20 columns</p>\n",
       "</div>"
      ],
      "text/plain": [
       "               Make                                  Model    Price  Year  \\\n",
       "0             Honda                    Amaze 1.2 VX i-VTEC   505000  2017   \n",
       "1     Maruti Suzuki                        Swift DZire VDI   450000  2014   \n",
       "2           Hyundai                   i10 Magna 1.2 Kappa2   220000  2011   \n",
       "3            Toyota                               Glanza G   799000  2019   \n",
       "4            Toyota        Innova 2.4 VX 7 STR [2016-2020]  1950000  2018   \n",
       "...             ...                                    ...      ...   ...   \n",
       "2054       Mahindra                  XUV500 W8 [2015-2017]   850000  2016   \n",
       "2055        Hyundai                           Eon D-Lite +   275000  2014   \n",
       "2056           Ford            Figo Duratec Petrol ZXI 1.2   240000  2013   \n",
       "2057            BMW  5-Series 520d Luxury Line [2017-2019]  4290000  2018   \n",
       "2058       Mahindra      Bolero Power Plus ZLX [2016-2019]   670000  2017   \n",
       "\n",
       "      Kilometer Fuel Type Transmission    Location   Color   Owner  \\\n",
       "0         87150    Petrol       Manual        Pune    Grey   First   \n",
       "1         75000    Diesel       Manual    Ludhiana   White  Second   \n",
       "2         67000    Petrol       Manual     Lucknow  Maroon   First   \n",
       "3         37500    Petrol       Manual   Mangalore     Red   First   \n",
       "4         69000    Diesel       Manual      Mumbai    Grey   First   \n",
       "...         ...       ...          ...         ...     ...     ...   \n",
       "2054      90300    Diesel       Manual       Surat   White   First   \n",
       "2055      83000    Petrol       Manual   Ahmedabad   White  Second   \n",
       "2056      73000    Petrol       Manual       Thane  Silver   First   \n",
       "2057      60474    Diesel    Automatic  Coimbatore   White   First   \n",
       "2058      72000    Diesel       Manual    Guwahati   White   First   \n",
       "\n",
       "     Seller Type   Engine           Max Power              Max Torque  \\\n",
       "0      Corporate  1198 cc   87 bhp @ 6000 rpm       109 Nm @ 4500 rpm   \n",
       "1     Individual  1248 cc   74 bhp @ 4000 rpm       190 Nm @ 2000 rpm   \n",
       "2     Individual  1197 cc   79 bhp @ 6000 rpm  112.7619 Nm @ 4000 rpm   \n",
       "3     Individual  1197 cc   82 bhp @ 6000 rpm       113 Nm @ 4200 rpm   \n",
       "4     Individual  2393 cc  148 bhp @ 3400 rpm       343 Nm @ 1400 rpm   \n",
       "...          ...      ...                 ...                     ...   \n",
       "2054  Individual  2179 cc  138 bhp @ 3750 rpm       330 Nm @ 1600 rpm   \n",
       "2055  Individual   814 cc   55 bhp @ 5500 rpm        75 Nm @ 4000 rpm   \n",
       "2056  Individual  1196 cc   70 bhp @ 6250 rpm       102 Nm @ 4000 rpm   \n",
       "2057  Individual  1995 cc  188 bhp @ 4000 rpm       400 Nm @ 1750 rpm   \n",
       "2058  Individual  1493 cc   70 bhp @ 3600 rpm       195 Nm @ 1400 rpm   \n",
       "\n",
       "     Drivetrain  Length   Width  Height  Seating Capacity  Fuel Tank Capacity  \n",
       "0           FWD  3990.0  1680.0  1505.0               5.0                35.0  \n",
       "1           FWD  3995.0  1695.0  1555.0               5.0                42.0  \n",
       "2           FWD  3585.0  1595.0  1550.0               5.0                35.0  \n",
       "3           FWD  3995.0  1745.0  1510.0               5.0                37.0  \n",
       "4           RWD  4735.0  1830.0  1795.0               7.0                55.0  \n",
       "...         ...     ...     ...     ...               ...                 ...  \n",
       "2054        FWD  4585.0  1890.0  1785.0               7.0                70.0  \n",
       "2055        FWD  3495.0  1550.0  1500.0               5.0                32.0  \n",
       "2056        FWD  3795.0  1680.0  1427.0               5.0                45.0  \n",
       "2057        RWD  4936.0  1868.0  1479.0               5.0                65.0  \n",
       "2058        RWD  3995.0  1745.0  1880.0               7.0                 NaN  \n",
       "\n",
       "[2059 rows x 20 columns]"
      ]
     },
     "execution_count": 2,
     "metadata": {},
     "output_type": "execute_result"
    }
   ],
   "source": [
    "df=pd.read_csv(\"car details v4.csv\")\n",
    "df"
   ]
  },
  {
   "cell_type": "code",
   "execution_count": 3,
   "id": "7d8efeb3",
   "metadata": {},
   "outputs": [
    {
     "data": {
      "text/plain": [
       "(2059, 20)"
      ]
     },
     "execution_count": 3,
     "metadata": {},
     "output_type": "execute_result"
    }
   ],
   "source": [
    "df.shape"
   ]
  },
  {
   "cell_type": "code",
   "execution_count": 4,
   "id": "c2cc32c9",
   "metadata": {},
   "outputs": [
    {
     "data": {
      "text/plain": [
       "<bound method NDFrame.head of                Make                                  Model    Price  Year  \\\n",
       "0             Honda                    Amaze 1.2 VX i-VTEC   505000  2017   \n",
       "1     Maruti Suzuki                        Swift DZire VDI   450000  2014   \n",
       "2           Hyundai                   i10 Magna 1.2 Kappa2   220000  2011   \n",
       "3            Toyota                               Glanza G   799000  2019   \n",
       "4            Toyota        Innova 2.4 VX 7 STR [2016-2020]  1950000  2018   \n",
       "...             ...                                    ...      ...   ...   \n",
       "2054       Mahindra                  XUV500 W8 [2015-2017]   850000  2016   \n",
       "2055        Hyundai                           Eon D-Lite +   275000  2014   \n",
       "2056           Ford            Figo Duratec Petrol ZXI 1.2   240000  2013   \n",
       "2057            BMW  5-Series 520d Luxury Line [2017-2019]  4290000  2018   \n",
       "2058       Mahindra      Bolero Power Plus ZLX [2016-2019]   670000  2017   \n",
       "\n",
       "      Kilometer Fuel Type Transmission    Location   Color   Owner  \\\n",
       "0         87150    Petrol       Manual        Pune    Grey   First   \n",
       "1         75000    Diesel       Manual    Ludhiana   White  Second   \n",
       "2         67000    Petrol       Manual     Lucknow  Maroon   First   \n",
       "3         37500    Petrol       Manual   Mangalore     Red   First   \n",
       "4         69000    Diesel       Manual      Mumbai    Grey   First   \n",
       "...         ...       ...          ...         ...     ...     ...   \n",
       "2054      90300    Diesel       Manual       Surat   White   First   \n",
       "2055      83000    Petrol       Manual   Ahmedabad   White  Second   \n",
       "2056      73000    Petrol       Manual       Thane  Silver   First   \n",
       "2057      60474    Diesel    Automatic  Coimbatore   White   First   \n",
       "2058      72000    Diesel       Manual    Guwahati   White   First   \n",
       "\n",
       "     Seller Type   Engine           Max Power              Max Torque  \\\n",
       "0      Corporate  1198 cc   87 bhp @ 6000 rpm       109 Nm @ 4500 rpm   \n",
       "1     Individual  1248 cc   74 bhp @ 4000 rpm       190 Nm @ 2000 rpm   \n",
       "2     Individual  1197 cc   79 bhp @ 6000 rpm  112.7619 Nm @ 4000 rpm   \n",
       "3     Individual  1197 cc   82 bhp @ 6000 rpm       113 Nm @ 4200 rpm   \n",
       "4     Individual  2393 cc  148 bhp @ 3400 rpm       343 Nm @ 1400 rpm   \n",
       "...          ...      ...                 ...                     ...   \n",
       "2054  Individual  2179 cc  138 bhp @ 3750 rpm       330 Nm @ 1600 rpm   \n",
       "2055  Individual   814 cc   55 bhp @ 5500 rpm        75 Nm @ 4000 rpm   \n",
       "2056  Individual  1196 cc   70 bhp @ 6250 rpm       102 Nm @ 4000 rpm   \n",
       "2057  Individual  1995 cc  188 bhp @ 4000 rpm       400 Nm @ 1750 rpm   \n",
       "2058  Individual  1493 cc   70 bhp @ 3600 rpm       195 Nm @ 1400 rpm   \n",
       "\n",
       "     Drivetrain  Length   Width  Height  Seating Capacity  Fuel Tank Capacity  \n",
       "0           FWD  3990.0  1680.0  1505.0               5.0                35.0  \n",
       "1           FWD  3995.0  1695.0  1555.0               5.0                42.0  \n",
       "2           FWD  3585.0  1595.0  1550.0               5.0                35.0  \n",
       "3           FWD  3995.0  1745.0  1510.0               5.0                37.0  \n",
       "4           RWD  4735.0  1830.0  1795.0               7.0                55.0  \n",
       "...         ...     ...     ...     ...               ...                 ...  \n",
       "2054        FWD  4585.0  1890.0  1785.0               7.0                70.0  \n",
       "2055        FWD  3495.0  1550.0  1500.0               5.0                32.0  \n",
       "2056        FWD  3795.0  1680.0  1427.0               5.0                45.0  \n",
       "2057        RWD  4936.0  1868.0  1479.0               5.0                65.0  \n",
       "2058        RWD  3995.0  1745.0  1880.0               7.0                 NaN  \n",
       "\n",
       "[2059 rows x 20 columns]>"
      ]
     },
     "execution_count": 4,
     "metadata": {},
     "output_type": "execute_result"
    }
   ],
   "source": [
    "df.head"
   ]
  },
  {
   "cell_type": "code",
   "execution_count": 5,
   "id": "d262b3ac",
   "metadata": {},
   "outputs": [
    {
     "data": {
      "text/plain": [
       "<bound method NDFrame.tail of                Make                                  Model    Price  Year  \\\n",
       "0             Honda                    Amaze 1.2 VX i-VTEC   505000  2017   \n",
       "1     Maruti Suzuki                        Swift DZire VDI   450000  2014   \n",
       "2           Hyundai                   i10 Magna 1.2 Kappa2   220000  2011   \n",
       "3            Toyota                               Glanza G   799000  2019   \n",
       "4            Toyota        Innova 2.4 VX 7 STR [2016-2020]  1950000  2018   \n",
       "...             ...                                    ...      ...   ...   \n",
       "2054       Mahindra                  XUV500 W8 [2015-2017]   850000  2016   \n",
       "2055        Hyundai                           Eon D-Lite +   275000  2014   \n",
       "2056           Ford            Figo Duratec Petrol ZXI 1.2   240000  2013   \n",
       "2057            BMW  5-Series 520d Luxury Line [2017-2019]  4290000  2018   \n",
       "2058       Mahindra      Bolero Power Plus ZLX [2016-2019]   670000  2017   \n",
       "\n",
       "      Kilometer Fuel Type Transmission    Location   Color   Owner  \\\n",
       "0         87150    Petrol       Manual        Pune    Grey   First   \n",
       "1         75000    Diesel       Manual    Ludhiana   White  Second   \n",
       "2         67000    Petrol       Manual     Lucknow  Maroon   First   \n",
       "3         37500    Petrol       Manual   Mangalore     Red   First   \n",
       "4         69000    Diesel       Manual      Mumbai    Grey   First   \n",
       "...         ...       ...          ...         ...     ...     ...   \n",
       "2054      90300    Diesel       Manual       Surat   White   First   \n",
       "2055      83000    Petrol       Manual   Ahmedabad   White  Second   \n",
       "2056      73000    Petrol       Manual       Thane  Silver   First   \n",
       "2057      60474    Diesel    Automatic  Coimbatore   White   First   \n",
       "2058      72000    Diesel       Manual    Guwahati   White   First   \n",
       "\n",
       "     Seller Type   Engine           Max Power              Max Torque  \\\n",
       "0      Corporate  1198 cc   87 bhp @ 6000 rpm       109 Nm @ 4500 rpm   \n",
       "1     Individual  1248 cc   74 bhp @ 4000 rpm       190 Nm @ 2000 rpm   \n",
       "2     Individual  1197 cc   79 bhp @ 6000 rpm  112.7619 Nm @ 4000 rpm   \n",
       "3     Individual  1197 cc   82 bhp @ 6000 rpm       113 Nm @ 4200 rpm   \n",
       "4     Individual  2393 cc  148 bhp @ 3400 rpm       343 Nm @ 1400 rpm   \n",
       "...          ...      ...                 ...                     ...   \n",
       "2054  Individual  2179 cc  138 bhp @ 3750 rpm       330 Nm @ 1600 rpm   \n",
       "2055  Individual   814 cc   55 bhp @ 5500 rpm        75 Nm @ 4000 rpm   \n",
       "2056  Individual  1196 cc   70 bhp @ 6250 rpm       102 Nm @ 4000 rpm   \n",
       "2057  Individual  1995 cc  188 bhp @ 4000 rpm       400 Nm @ 1750 rpm   \n",
       "2058  Individual  1493 cc   70 bhp @ 3600 rpm       195 Nm @ 1400 rpm   \n",
       "\n",
       "     Drivetrain  Length   Width  Height  Seating Capacity  Fuel Tank Capacity  \n",
       "0           FWD  3990.0  1680.0  1505.0               5.0                35.0  \n",
       "1           FWD  3995.0  1695.0  1555.0               5.0                42.0  \n",
       "2           FWD  3585.0  1595.0  1550.0               5.0                35.0  \n",
       "3           FWD  3995.0  1745.0  1510.0               5.0                37.0  \n",
       "4           RWD  4735.0  1830.0  1795.0               7.0                55.0  \n",
       "...         ...     ...     ...     ...               ...                 ...  \n",
       "2054        FWD  4585.0  1890.0  1785.0               7.0                70.0  \n",
       "2055        FWD  3495.0  1550.0  1500.0               5.0                32.0  \n",
       "2056        FWD  3795.0  1680.0  1427.0               5.0                45.0  \n",
       "2057        RWD  4936.0  1868.0  1479.0               5.0                65.0  \n",
       "2058        RWD  3995.0  1745.0  1880.0               7.0                 NaN  \n",
       "\n",
       "[2059 rows x 20 columns]>"
      ]
     },
     "execution_count": 5,
     "metadata": {},
     "output_type": "execute_result"
    }
   ],
   "source": [
    "df.tail"
   ]
  },
  {
   "cell_type": "code",
   "execution_count": 6,
   "id": "ba5113c0",
   "metadata": {},
   "outputs": [
    {
     "name": "stdout",
     "output_type": "stream",
     "text": [
      "<class 'pandas.core.frame.DataFrame'>\n",
      "RangeIndex: 2059 entries, 0 to 2058\n",
      "Data columns (total 20 columns):\n",
      " #   Column              Non-Null Count  Dtype  \n",
      "---  ------              --------------  -----  \n",
      " 0   Make                2059 non-null   object \n",
      " 1   Model               2059 non-null   object \n",
      " 2   Price               2059 non-null   int64  \n",
      " 3   Year                2059 non-null   int64  \n",
      " 4   Kilometer           2059 non-null   int64  \n",
      " 5   Fuel Type           2059 non-null   object \n",
      " 6   Transmission        2059 non-null   object \n",
      " 7   Location            2059 non-null   object \n",
      " 8   Color               2059 non-null   object \n",
      " 9   Owner               2059 non-null   object \n",
      " 10  Seller Type         2059 non-null   object \n",
      " 11  Engine              1979 non-null   object \n",
      " 12  Max Power           1979 non-null   object \n",
      " 13  Max Torque          1979 non-null   object \n",
      " 14  Drivetrain          1923 non-null   object \n",
      " 15  Length              1995 non-null   float64\n",
      " 16  Width               1995 non-null   float64\n",
      " 17  Height              1995 non-null   float64\n",
      " 18  Seating Capacity    1995 non-null   float64\n",
      " 19  Fuel Tank Capacity  1946 non-null   float64\n",
      "dtypes: float64(5), int64(3), object(12)\n",
      "memory usage: 321.8+ KB\n"
     ]
    }
   ],
   "source": [
    "df.info()"
   ]
  },
  {
   "cell_type": "code",
   "execution_count": 7,
   "id": "79dbb869",
   "metadata": {},
   "outputs": [
    {
     "data": {
      "text/plain": [
       "Index(['Make', 'Model', 'Price', 'Year', 'Kilometer', 'Fuel Type',\n",
       "       'Transmission', 'Location', 'Color', 'Owner', 'Seller Type', 'Engine',\n",
       "       'Max Power', 'Max Torque', 'Drivetrain', 'Length', 'Width', 'Height',\n",
       "       'Seating Capacity', 'Fuel Tank Capacity'],\n",
       "      dtype='object')"
      ]
     },
     "execution_count": 7,
     "metadata": {},
     "output_type": "execute_result"
    }
   ],
   "source": [
    "df.columns"
   ]
  },
  {
   "cell_type": "code",
   "execution_count": 8,
   "id": "8e4d82d1",
   "metadata": {},
   "outputs": [
    {
     "data": {
      "text/html": [
       "<div>\n",
       "<style scoped>\n",
       "    .dataframe tbody tr th:only-of-type {\n",
       "        vertical-align: middle;\n",
       "    }\n",
       "\n",
       "    .dataframe tbody tr th {\n",
       "        vertical-align: top;\n",
       "    }\n",
       "\n",
       "    .dataframe thead th {\n",
       "        text-align: right;\n",
       "    }\n",
       "</style>\n",
       "<table border=\"1\" class=\"dataframe\">\n",
       "  <thead>\n",
       "    <tr style=\"text-align: right;\">\n",
       "      <th></th>\n",
       "      <th>Make</th>\n",
       "      <th>Model</th>\n",
       "      <th>Price</th>\n",
       "      <th>Year</th>\n",
       "      <th>Kilometer</th>\n",
       "      <th>Fuel Type</th>\n",
       "      <th>Transmission</th>\n",
       "      <th>Location</th>\n",
       "      <th>Color</th>\n",
       "      <th>Owner</th>\n",
       "      <th>Seller Type</th>\n",
       "      <th>Engine</th>\n",
       "      <th>Max Power</th>\n",
       "      <th>Max Torque</th>\n",
       "      <th>Drivetrain</th>\n",
       "      <th>Length</th>\n",
       "      <th>Width</th>\n",
       "      <th>Height</th>\n",
       "      <th>Seating Capacity</th>\n",
       "      <th>Fuel Tank Capacity</th>\n",
       "    </tr>\n",
       "  </thead>\n",
       "  <tbody>\n",
       "    <tr>\n",
       "      <th>0</th>\n",
       "      <td>False</td>\n",
       "      <td>False</td>\n",
       "      <td>False</td>\n",
       "      <td>False</td>\n",
       "      <td>False</td>\n",
       "      <td>False</td>\n",
       "      <td>False</td>\n",
       "      <td>False</td>\n",
       "      <td>False</td>\n",
       "      <td>False</td>\n",
       "      <td>False</td>\n",
       "      <td>False</td>\n",
       "      <td>False</td>\n",
       "      <td>False</td>\n",
       "      <td>False</td>\n",
       "      <td>False</td>\n",
       "      <td>False</td>\n",
       "      <td>False</td>\n",
       "      <td>False</td>\n",
       "      <td>False</td>\n",
       "    </tr>\n",
       "    <tr>\n",
       "      <th>1</th>\n",
       "      <td>False</td>\n",
       "      <td>False</td>\n",
       "      <td>False</td>\n",
       "      <td>False</td>\n",
       "      <td>False</td>\n",
       "      <td>False</td>\n",
       "      <td>False</td>\n",
       "      <td>False</td>\n",
       "      <td>False</td>\n",
       "      <td>False</td>\n",
       "      <td>False</td>\n",
       "      <td>False</td>\n",
       "      <td>False</td>\n",
       "      <td>False</td>\n",
       "      <td>False</td>\n",
       "      <td>False</td>\n",
       "      <td>False</td>\n",
       "      <td>False</td>\n",
       "      <td>False</td>\n",
       "      <td>False</td>\n",
       "    </tr>\n",
       "    <tr>\n",
       "      <th>2</th>\n",
       "      <td>False</td>\n",
       "      <td>False</td>\n",
       "      <td>False</td>\n",
       "      <td>False</td>\n",
       "      <td>False</td>\n",
       "      <td>False</td>\n",
       "      <td>False</td>\n",
       "      <td>False</td>\n",
       "      <td>False</td>\n",
       "      <td>False</td>\n",
       "      <td>False</td>\n",
       "      <td>False</td>\n",
       "      <td>False</td>\n",
       "      <td>False</td>\n",
       "      <td>False</td>\n",
       "      <td>False</td>\n",
       "      <td>False</td>\n",
       "      <td>False</td>\n",
       "      <td>False</td>\n",
       "      <td>False</td>\n",
       "    </tr>\n",
       "    <tr>\n",
       "      <th>3</th>\n",
       "      <td>False</td>\n",
       "      <td>False</td>\n",
       "      <td>False</td>\n",
       "      <td>False</td>\n",
       "      <td>False</td>\n",
       "      <td>False</td>\n",
       "      <td>False</td>\n",
       "      <td>False</td>\n",
       "      <td>False</td>\n",
       "      <td>False</td>\n",
       "      <td>False</td>\n",
       "      <td>False</td>\n",
       "      <td>False</td>\n",
       "      <td>False</td>\n",
       "      <td>False</td>\n",
       "      <td>False</td>\n",
       "      <td>False</td>\n",
       "      <td>False</td>\n",
       "      <td>False</td>\n",
       "      <td>False</td>\n",
       "    </tr>\n",
       "    <tr>\n",
       "      <th>4</th>\n",
       "      <td>False</td>\n",
       "      <td>False</td>\n",
       "      <td>False</td>\n",
       "      <td>False</td>\n",
       "      <td>False</td>\n",
       "      <td>False</td>\n",
       "      <td>False</td>\n",
       "      <td>False</td>\n",
       "      <td>False</td>\n",
       "      <td>False</td>\n",
       "      <td>False</td>\n",
       "      <td>False</td>\n",
       "      <td>False</td>\n",
       "      <td>False</td>\n",
       "      <td>False</td>\n",
       "      <td>False</td>\n",
       "      <td>False</td>\n",
       "      <td>False</td>\n",
       "      <td>False</td>\n",
       "      <td>False</td>\n",
       "    </tr>\n",
       "    <tr>\n",
       "      <th>...</th>\n",
       "      <td>...</td>\n",
       "      <td>...</td>\n",
       "      <td>...</td>\n",
       "      <td>...</td>\n",
       "      <td>...</td>\n",
       "      <td>...</td>\n",
       "      <td>...</td>\n",
       "      <td>...</td>\n",
       "      <td>...</td>\n",
       "      <td>...</td>\n",
       "      <td>...</td>\n",
       "      <td>...</td>\n",
       "      <td>...</td>\n",
       "      <td>...</td>\n",
       "      <td>...</td>\n",
       "      <td>...</td>\n",
       "      <td>...</td>\n",
       "      <td>...</td>\n",
       "      <td>...</td>\n",
       "      <td>...</td>\n",
       "    </tr>\n",
       "    <tr>\n",
       "      <th>2054</th>\n",
       "      <td>False</td>\n",
       "      <td>False</td>\n",
       "      <td>False</td>\n",
       "      <td>False</td>\n",
       "      <td>False</td>\n",
       "      <td>False</td>\n",
       "      <td>False</td>\n",
       "      <td>False</td>\n",
       "      <td>False</td>\n",
       "      <td>False</td>\n",
       "      <td>False</td>\n",
       "      <td>False</td>\n",
       "      <td>False</td>\n",
       "      <td>False</td>\n",
       "      <td>False</td>\n",
       "      <td>False</td>\n",
       "      <td>False</td>\n",
       "      <td>False</td>\n",
       "      <td>False</td>\n",
       "      <td>False</td>\n",
       "    </tr>\n",
       "    <tr>\n",
       "      <th>2055</th>\n",
       "      <td>False</td>\n",
       "      <td>False</td>\n",
       "      <td>False</td>\n",
       "      <td>False</td>\n",
       "      <td>False</td>\n",
       "      <td>False</td>\n",
       "      <td>False</td>\n",
       "      <td>False</td>\n",
       "      <td>False</td>\n",
       "      <td>False</td>\n",
       "      <td>False</td>\n",
       "      <td>False</td>\n",
       "      <td>False</td>\n",
       "      <td>False</td>\n",
       "      <td>False</td>\n",
       "      <td>False</td>\n",
       "      <td>False</td>\n",
       "      <td>False</td>\n",
       "      <td>False</td>\n",
       "      <td>False</td>\n",
       "    </tr>\n",
       "    <tr>\n",
       "      <th>2056</th>\n",
       "      <td>False</td>\n",
       "      <td>False</td>\n",
       "      <td>False</td>\n",
       "      <td>False</td>\n",
       "      <td>False</td>\n",
       "      <td>False</td>\n",
       "      <td>False</td>\n",
       "      <td>False</td>\n",
       "      <td>False</td>\n",
       "      <td>False</td>\n",
       "      <td>False</td>\n",
       "      <td>False</td>\n",
       "      <td>False</td>\n",
       "      <td>False</td>\n",
       "      <td>False</td>\n",
       "      <td>False</td>\n",
       "      <td>False</td>\n",
       "      <td>False</td>\n",
       "      <td>False</td>\n",
       "      <td>False</td>\n",
       "    </tr>\n",
       "    <tr>\n",
       "      <th>2057</th>\n",
       "      <td>False</td>\n",
       "      <td>False</td>\n",
       "      <td>False</td>\n",
       "      <td>False</td>\n",
       "      <td>False</td>\n",
       "      <td>False</td>\n",
       "      <td>False</td>\n",
       "      <td>False</td>\n",
       "      <td>False</td>\n",
       "      <td>False</td>\n",
       "      <td>False</td>\n",
       "      <td>False</td>\n",
       "      <td>False</td>\n",
       "      <td>False</td>\n",
       "      <td>False</td>\n",
       "      <td>False</td>\n",
       "      <td>False</td>\n",
       "      <td>False</td>\n",
       "      <td>False</td>\n",
       "      <td>False</td>\n",
       "    </tr>\n",
       "    <tr>\n",
       "      <th>2058</th>\n",
       "      <td>False</td>\n",
       "      <td>False</td>\n",
       "      <td>False</td>\n",
       "      <td>False</td>\n",
       "      <td>False</td>\n",
       "      <td>False</td>\n",
       "      <td>False</td>\n",
       "      <td>False</td>\n",
       "      <td>False</td>\n",
       "      <td>False</td>\n",
       "      <td>False</td>\n",
       "      <td>False</td>\n",
       "      <td>False</td>\n",
       "      <td>False</td>\n",
       "      <td>False</td>\n",
       "      <td>False</td>\n",
       "      <td>False</td>\n",
       "      <td>False</td>\n",
       "      <td>False</td>\n",
       "      <td>True</td>\n",
       "    </tr>\n",
       "  </tbody>\n",
       "</table>\n",
       "<p>2059 rows × 20 columns</p>\n",
       "</div>"
      ],
      "text/plain": [
       "       Make  Model  Price   Year  Kilometer  Fuel Type  Transmission  \\\n",
       "0     False  False  False  False      False      False         False   \n",
       "1     False  False  False  False      False      False         False   \n",
       "2     False  False  False  False      False      False         False   \n",
       "3     False  False  False  False      False      False         False   \n",
       "4     False  False  False  False      False      False         False   \n",
       "...     ...    ...    ...    ...        ...        ...           ...   \n",
       "2054  False  False  False  False      False      False         False   \n",
       "2055  False  False  False  False      False      False         False   \n",
       "2056  False  False  False  False      False      False         False   \n",
       "2057  False  False  False  False      False      False         False   \n",
       "2058  False  False  False  False      False      False         False   \n",
       "\n",
       "      Location  Color  Owner  Seller Type  Engine  Max Power  Max Torque  \\\n",
       "0        False  False  False        False   False      False       False   \n",
       "1        False  False  False        False   False      False       False   \n",
       "2        False  False  False        False   False      False       False   \n",
       "3        False  False  False        False   False      False       False   \n",
       "4        False  False  False        False   False      False       False   \n",
       "...        ...    ...    ...          ...     ...        ...         ...   \n",
       "2054     False  False  False        False   False      False       False   \n",
       "2055     False  False  False        False   False      False       False   \n",
       "2056     False  False  False        False   False      False       False   \n",
       "2057     False  False  False        False   False      False       False   \n",
       "2058     False  False  False        False   False      False       False   \n",
       "\n",
       "      Drivetrain  Length  Width  Height  Seating Capacity  Fuel Tank Capacity  \n",
       "0          False   False  False   False             False               False  \n",
       "1          False   False  False   False             False               False  \n",
       "2          False   False  False   False             False               False  \n",
       "3          False   False  False   False             False               False  \n",
       "4          False   False  False   False             False               False  \n",
       "...          ...     ...    ...     ...               ...                 ...  \n",
       "2054       False   False  False   False             False               False  \n",
       "2055       False   False  False   False             False               False  \n",
       "2056       False   False  False   False             False               False  \n",
       "2057       False   False  False   False             False               False  \n",
       "2058       False   False  False   False             False                True  \n",
       "\n",
       "[2059 rows x 20 columns]"
      ]
     },
     "execution_count": 8,
     "metadata": {},
     "output_type": "execute_result"
    }
   ],
   "source": [
    "df.isnull()"
   ]
  },
  {
   "cell_type": "code",
   "execution_count": 9,
   "id": "0fef55a4",
   "metadata": {},
   "outputs": [
    {
     "data": {
      "text/plain": [
       "Make                    0\n",
       "Model                   0\n",
       "Price                   0\n",
       "Year                    0\n",
       "Kilometer               0\n",
       "Fuel Type               0\n",
       "Transmission            0\n",
       "Location                0\n",
       "Color                   0\n",
       "Owner                   0\n",
       "Seller Type             0\n",
       "Engine                 80\n",
       "Max Power              80\n",
       "Max Torque             80\n",
       "Drivetrain            136\n",
       "Length                 64\n",
       "Width                  64\n",
       "Height                 64\n",
       "Seating Capacity       64\n",
       "Fuel Tank Capacity    113\n",
       "dtype: int64"
      ]
     },
     "execution_count": 9,
     "metadata": {},
     "output_type": "execute_result"
    }
   ],
   "source": [
    "df.isnull().sum()"
   ]
  },
  {
   "cell_type": "code",
   "execution_count": 10,
   "id": "1ab0d242",
   "metadata": {},
   "outputs": [
    {
     "data": {
      "text/plain": [
       "np.int64(745)"
      ]
     },
     "execution_count": 10,
     "metadata": {},
     "output_type": "execute_result"
    }
   ],
   "source": [
    "df.isnull().sum().sum()"
   ]
  },
  {
   "cell_type": "code",
   "execution_count": 11,
   "id": "378c9a43",
   "metadata": {},
   "outputs": [],
   "source": [
    "from sklearn.preprocessing import LabelEncoder"
   ]
  },
  {
   "cell_type": "code",
   "execution_count": 12,
   "id": "14bd067d",
   "metadata": {},
   "outputs": [],
   "source": [
    "le=LabelEncoder()"
   ]
  },
  {
   "cell_type": "code",
   "execution_count": 13,
   "id": "1d5336bb",
   "metadata": {},
   "outputs": [
    {
     "name": "stdout",
     "output_type": "stream",
     "text": [
      "<class 'pandas.core.frame.DataFrame'>\n",
      "RangeIndex: 2059 entries, 0 to 2058\n",
      "Data columns (total 20 columns):\n",
      " #   Column              Non-Null Count  Dtype  \n",
      "---  ------              --------------  -----  \n",
      " 0   Make                2059 non-null   object \n",
      " 1   Model               2059 non-null   object \n",
      " 2   Price               2059 non-null   int64  \n",
      " 3   Year                2059 non-null   int64  \n",
      " 4   Kilometer           2059 non-null   int64  \n",
      " 5   Fuel Type           2059 non-null   object \n",
      " 6   Transmission        2059 non-null   object \n",
      " 7   Location            2059 non-null   object \n",
      " 8   Color               2059 non-null   object \n",
      " 9   Owner               2059 non-null   object \n",
      " 10  Seller Type         2059 non-null   object \n",
      " 11  Engine              1979 non-null   object \n",
      " 12  Max Power           1979 non-null   object \n",
      " 13  Max Torque          1979 non-null   object \n",
      " 14  Drivetrain          1923 non-null   object \n",
      " 15  Length              1995 non-null   float64\n",
      " 16  Width               1995 non-null   float64\n",
      " 17  Height              1995 non-null   float64\n",
      " 18  Seating Capacity    1995 non-null   float64\n",
      " 19  Fuel Tank Capacity  1946 non-null   float64\n",
      "dtypes: float64(5), int64(3), object(12)\n",
      "memory usage: 321.8+ KB\n"
     ]
    }
   ],
   "source": [
    "df.info()"
   ]
  },
  {
   "cell_type": "code",
   "execution_count": 14,
   "id": "463fd6be",
   "metadata": {},
   "outputs": [
    {
     "name": "stdout",
     "output_type": "stream",
     "text": [
      "<class 'pandas.core.frame.DataFrame'>\n",
      "RangeIndex: 2059 entries, 0 to 2058\n",
      "Data columns (total 20 columns):\n",
      " #   Column              Non-Null Count  Dtype  \n",
      "---  ------              --------------  -----  \n",
      " 0   Make                2059 non-null   int64  \n",
      " 1   Model               2059 non-null   int64  \n",
      " 2   Price               2059 non-null   int64  \n",
      " 3   Year                2059 non-null   int64  \n",
      " 4   Kilometer           2059 non-null   int64  \n",
      " 5   Fuel Type           2059 non-null   int64  \n",
      " 6   Transmission        2059 non-null   int64  \n",
      " 7   Location            2059 non-null   int64  \n",
      " 8   Color               2059 non-null   int64  \n",
      " 9   Owner               2059 non-null   int64  \n",
      " 10  Seller Type         2059 non-null   int64  \n",
      " 11  Engine              2059 non-null   int64  \n",
      " 12  Max Power           2059 non-null   int64  \n",
      " 13  Max Torque          2059 non-null   int64  \n",
      " 14  Drivetrain          2059 non-null   int64  \n",
      " 15  Length              1995 non-null   float64\n",
      " 16  Width               1995 non-null   float64\n",
      " 17  Height              1995 non-null   float64\n",
      " 18  Seating Capacity    1995 non-null   float64\n",
      " 19  Fuel Tank Capacity  1946 non-null   float64\n",
      "dtypes: float64(5), int64(15)\n",
      "memory usage: 321.8 KB\n"
     ]
    }
   ],
   "source": [
    "df['Make']=le.fit_transform(df['Make'])\n",
    "df['Model']=le.fit_transform(df['Model'])\n",
    "df['Fuel Type']=le.fit_transform(df['Fuel Type'])\n",
    "df['Transmission']=le.fit_transform(df['Transmission'])\n",
    "df['Location']=le.fit_transform(df['Location'])\n",
    "df['Color']=le.fit_transform(df['Color'])\n",
    "df['Owner']=le.fit_transform(df['Owner'])\n",
    "df['Seller Type']=le.fit_transform(df['Seller Type'])\n",
    "df['Engine']=le.fit_transform(df['Engine'])\n",
    "df['Max Power']=le.fit_transform(df['Max Power'])\n",
    "df['Max Torque']=le.fit_transform(df['Max Torque'])\n",
    "df['Drivetrain']=le.fit_transform(df['Drivetrain'])\n",
    "\n",
    "\n",
    "df.info()\n",
    "\n",
    "\n"
   ]
  },
  {
   "cell_type": "code",
   "execution_count": 15,
   "id": "84d59fb4",
   "metadata": {},
   "outputs": [
    {
     "data": {
      "text/plain": [
       "Make                    0\n",
       "Model                   0\n",
       "Price                   0\n",
       "Year                    0\n",
       "Kilometer               0\n",
       "Fuel Type               0\n",
       "Transmission            0\n",
       "Location                0\n",
       "Color                   0\n",
       "Owner                   0\n",
       "Seller Type             0\n",
       "Engine                  0\n",
       "Max Power               0\n",
       "Max Torque              0\n",
       "Drivetrain              0\n",
       "Length                 64\n",
       "Width                  64\n",
       "Height                 64\n",
       "Seating Capacity       64\n",
       "Fuel Tank Capacity    113\n",
       "dtype: int64"
      ]
     },
     "execution_count": 15,
     "metadata": {},
     "output_type": "execute_result"
    }
   ],
   "source": [
    "df.isnull().sum()"
   ]
  },
  {
   "cell_type": "code",
   "execution_count": 16,
   "id": "f9b91a25",
   "metadata": {},
   "outputs": [],
   "source": [
    "df['Length']=df['Length'].fillna(df['Length'].median())\n",
    "df['Width']=df['Width'].fillna(df['Width'].median())\n",
    "df['Height']=df['Height'].fillna(df['Height'].median())\n",
    "df['Seating Capacity']=df['Seating Capacity'].fillna(df['Seating Capacity'].median())\n",
    "df['Fuel Tank Capacity']=df['Fuel Tank Capacity'].fillna(df['Fuel Tank Capacity'].median())"
   ]
  },
  {
   "cell_type": "code",
   "execution_count": 17,
   "id": "6c943c08",
   "metadata": {},
   "outputs": [
    {
     "data": {
      "text/plain": [
       "Make                  0\n",
       "Model                 0\n",
       "Price                 0\n",
       "Year                  0\n",
       "Kilometer             0\n",
       "Fuel Type             0\n",
       "Transmission          0\n",
       "Location              0\n",
       "Color                 0\n",
       "Owner                 0\n",
       "Seller Type           0\n",
       "Engine                0\n",
       "Max Power             0\n",
       "Max Torque            0\n",
       "Drivetrain            0\n",
       "Length                0\n",
       "Width                 0\n",
       "Height                0\n",
       "Seating Capacity      0\n",
       "Fuel Tank Capacity    0\n",
       "dtype: int64"
      ]
     },
     "execution_count": 17,
     "metadata": {},
     "output_type": "execute_result"
    }
   ],
   "source": [
    "df.isnull().sum()"
   ]
  },
  {
   "cell_type": "code",
   "execution_count": 18,
   "id": "7449d365",
   "metadata": {},
   "outputs": [
    {
     "data": {
      "text/plain": [
       "np.int64(0)"
      ]
     },
     "execution_count": 18,
     "metadata": {},
     "output_type": "execute_result"
    }
   ],
   "source": [
    "df.duplicated().sum()"
   ]
  },
  {
   "cell_type": "code",
   "execution_count": 19,
   "id": "e9cd9361",
   "metadata": {},
   "outputs": [],
   "source": [
    "#df.drop_duplicates(inplace=True)"
   ]
  },
  {
   "cell_type": "code",
   "execution_count": 20,
   "id": "e659d182",
   "metadata": {},
   "outputs": [
    {
     "name": "stdout",
     "output_type": "stream",
     "text": [
      "      Make  Model  Year  Kilometer  Fuel Type  Transmission  Location  Color  \\\n",
      "0        7    106  2017      87150          6             1        56      7   \n",
      "1       19    802  2014      75000          2             1        40     15   \n",
      "2        8   1030  2011      67000          6             1        39      8   \n",
      "3       30    492  2019      37500          6             1        41     13   \n",
      "4       30    548  2018      69000          2             1        45      7   \n",
      "...    ...    ...   ...        ...        ...           ...       ...    ...   \n",
      "2054    18    999  2016      90300          2             1        67     15   \n",
      "2055     8    414  2014      83000          6             1         1     15   \n",
      "2056     6    455  2013      73000          6             1        68     14   \n",
      "2057     1     13  2018      60474          2             0        12     15   \n",
      "2058    18    138  2017      72000          2             1        25     15   \n",
      "\n",
      "      Owner  Seller Type  Engine  Max Power  Max Torque  Drivetrain  Length  \\\n",
      "0         1            1       7        312           5           1  3990.0   \n",
      "1         3            2       9        289          77           1  3995.0   \n",
      "2         1            2       6        301          11           1  3585.0   \n",
      "3         1            2       6        305          15           1  3995.0   \n",
      "4         1            2      60         78         167           2  4735.0   \n",
      "...     ...          ...     ...        ...         ...         ...     ...   \n",
      "2054      1            2      55         66         162           1  4585.0   \n",
      "2055      3            2     103        247         264           1  3495.0   \n",
      "2056      1            2       5        283           1           1  3795.0   \n",
      "2057      1            2      47        144         199           2  4936.0   \n",
      "2058      1            2      23        281          83           2  3995.0   \n",
      "\n",
      "       Width  Height  Seating Capacity  Fuel Tank Capacity  \n",
      "0     1680.0  1505.0               5.0                35.0  \n",
      "1     1695.0  1555.0               5.0                42.0  \n",
      "2     1595.0  1550.0               5.0                35.0  \n",
      "3     1745.0  1510.0               5.0                37.0  \n",
      "4     1830.0  1795.0               7.0                55.0  \n",
      "...      ...     ...               ...                 ...  \n",
      "2054  1890.0  1785.0               7.0                70.0  \n",
      "2055  1550.0  1500.0               5.0                32.0  \n",
      "2056  1680.0  1427.0               5.0                45.0  \n",
      "2057  1868.0  1479.0               5.0                65.0  \n",
      "2058  1745.0  1880.0               7.0                50.0  \n",
      "\n",
      "[2059 rows x 19 columns]\n",
      "0        505000\n",
      "1        450000\n",
      "2        220000\n",
      "3        799000\n",
      "4       1950000\n",
      "         ...   \n",
      "2054     850000\n",
      "2055     275000\n",
      "2056     240000\n",
      "2057    4290000\n",
      "2058     670000\n",
      "Name: Price, Length: 2059, dtype: int64\n"
     ]
    }
   ],
   "source": [
    "a=df.drop(['Price'],axis=1)\n",
    "b=df['Price']\n",
    "print(a)\n",
    "print(b)"
   ]
  },
  {
   "cell_type": "code",
   "execution_count": 21,
   "id": "92e9e52c",
   "metadata": {},
   "outputs": [
    {
     "name": "stdout",
     "output_type": "stream",
     "text": [
      "[[-0.87682979 -1.36455963  0.17085758 ... -0.63570583 -0.36597693\n",
      "  -1.14968386]\n",
      " [ 0.43197891  0.89404139 -0.72127028 ... -0.26300063 -0.36597693\n",
      "  -0.67326712]\n",
      " [-0.7677624   1.63392794 -1.61339814 ... -0.30027115 -0.36597693\n",
      "  -1.14968386]\n",
      " ...\n",
      " [-0.98589718 -0.232014   -1.01864623 ... -1.21712595 -0.36597693\n",
      "  -0.46908852]\n",
      " [-1.53123414 -1.66635546  0.46823353 ... -0.82951254 -0.36597693\n",
      "   0.89210216]\n",
      " [ 0.32291152 -1.26071591  0.17085758 ...  2.15958318  2.10062375\n",
      "  -0.12879085]]\n"
     ]
    }
   ],
   "source": [
    "from sklearn.preprocessing import StandardScaler\n",
    "sc=StandardScaler()                #this is used for normalize the dataset\n",
    "T=sc.fit_transform(a)\n",
    "print(T) "
   ]
  },
  {
   "cell_type": "code",
   "execution_count": 22,
   "id": "1ac5a6f4",
   "metadata": {},
   "outputs": [
    {
     "name": "stdout",
     "output_type": "stream",
     "text": [
      "[ 1578486.6766631   -143218.97862983  4417923.13811946   -26948.03876632\n",
      "  1342426.16223019  -895281.75228441  1934805.08283174  4865607.40224379\n",
      "  1363042.06794471  -110733.64228648  1422106.60102051  5304969.60056865\n",
      "  2526579.72695482  3765994.76340228   908950.66721296   163664.64076215\n",
      "  -597743.78060043   897240.86734074   726182.01155251  3223534.53911734\n",
      "   -98087.45694917   156907.06933641  1909408.58927995  4036902.0979448\n",
      "    68609.14551824  5276781.54313344  2943770.2121852   2205572.31959063\n",
      "  2910423.5235272   2111788.43434668  -789293.19901794   848158.30045474\n",
      "   205405.19642758  2452395.37843621  5777310.89378494   960765.63205791\n",
      "  1573703.91835588  3653938.98136926   934777.14380562  1043940.79163015\n",
      "  3916043.56311369  7517460.33653277  3113943.22799462  -119798.70390427\n",
      "   334004.16818202  1874957.47516948  3810369.47967947  -290419.06407458\n",
      "   584257.59216315   930973.85801148   630005.21605188  3387531.98844457\n",
      "  4343287.86907941   -13638.29005247   563269.37414259  2821861.61843902\n",
      "  2804217.43850136   890331.42303479  5024088.95167994  2420133.320113\n",
      "  1573271.93703485 -1491170.69271821  2751721.0079478   2453284.2781927\n",
      "  1967927.56697768   394452.60261559  1468153.82139528  1231560.80916905\n",
      "  -589729.81483978  1086864.87207717  -360980.80908698 -1119198.87209761\n",
      "  1447260.669635    2068241.37659901  1386892.53153974  -310535.57846308\n",
      "  2892821.57743323  1396631.99062902   -97523.54985499  3426077.74807155\n",
      "  2235250.54781097  4954277.34934968  1534259.10123104  3135957.69669867\n",
      "   845539.0842467   1414863.36931545  4109199.19752532  2364284.68594533\n",
      " -1376565.46783513  2880872.14507622  4708922.62353826  6316756.78678018\n",
      "  3487981.65750366  2178064.52029002  2989521.9293772    701668.24477059\n",
      "  3519332.81037158   950961.62756139  2641654.61254609  1705581.21873283\n",
      "   126613.10298479   600884.17720473   899515.96159583  -435124.80600864\n",
      "  2985305.60390723  2583059.63334751  3915695.8374424    453589.23394078\n",
      "  4076418.71464026   630938.93249536  2272332.36127156   831674.62477535\n",
      "  3899370.96271455  -381273.7458688   2721986.74904513   733446.90687382\n",
      "  3616227.24655277  3207329.75691789   554682.97760159  1076810.85961062\n",
      "   312648.43099511  -581440.70106137  1852014.82852608  -295641.56242228\n",
      "  3573289.46946651  1046229.63246733  1396072.67746401  6308489.3215971\n",
      " -1707265.74469763  2257878.31847131  1461149.77415937   590437.13189131\n",
      "   858976.08468813  2365390.75860655  2121222.47237623  1411758.62847155\n",
      "   965455.3536824   7159094.06004786  -654736.8194685   3303635.76491135\n",
      "  5305526.80367148  1845642.53951502  3922294.40922773  2786068.51064569\n",
      "   181578.76418328   179784.52171069  6164476.82679594  -717486.65140057\n",
      "    78877.86968464  3857513.88808197  1928406.14046741  1458512.75264764\n",
      "  3161508.39466107  3110365.18040895  1768810.08480972  1480417.964302\n",
      "  1303707.20711076  1686137.51153105   592868.57498395   858556.17405248\n",
      "  -508984.41992342  2197936.9226135   1399841.66406578  1098162.58045\n",
      "  2805705.79583132  -222695.93997091  1754375.89368945  5050728.6832605\n",
      "  1608454.37712318   734703.38056952   -30514.33701706   190231.47464913\n",
      "  2902052.85875458  4182055.22473651  3530387.46299654   491092.17574328\n",
      "  2276138.77887863   487503.6470812   4286137.86068755   808948.98636234\n",
      "   638159.65383536  -611880.81190348  1987465.59916872  1244619.02624214\n",
      "  3607697.4373129   1044649.11577058  4597544.81288815  2015019.49567682\n",
      "   -63587.575764     178455.99480402   933629.71240425  5160084.91097587\n",
      "  4766161.29087514   134367.06122267  4254590.14239049   692149.27258265\n",
      "  3107595.09439373  -682842.43216747  -136403.33769822   645287.75192583\n",
      " -1609886.82088232   314511.06994891   804818.71266949  2324674.655581\n",
      "   809276.05620807   781908.24488389 -1113605.00131977   765852.24798852\n",
      "  1626761.82954091  6045281.98851955   -58904.70105511  -315659.43909323\n",
      "  1372432.88016117  4059532.43322009  6028823.44042724  1455155.80154711\n",
      "  5524995.75440609  1518288.04940116  2366027.51616603  -331315.59007621\n",
      "   208394.2391414   3549956.49251348  2455057.52409452  1100647.37847549\n",
      "  5744807.02861607  4681367.34904677   690024.3358922     76881.76491195\n",
      "   742586.72378647  5611470.00150824   421671.69952321  2747172.36206853\n",
      "   253971.72724754  2308263.53203613  3323608.31254119  -532622.28860426\n",
      "  1223143.36685652  3829753.89036906  4382702.21814579  -225265.47344565\n",
      "  4252240.87993515  1939781.17519724   685980.38322937   124190.2147491\n",
      "  3232752.05443645  1515884.48782343   687663.47022051   703951.85335028\n",
      "   586725.62414998   878846.39257693  1055438.71086562  1596046.75996947\n",
      "  1057088.31453496   451214.9353202   -504932.45654261  2691445.50930834\n",
      "  3523107.89923382   370446.66085702  3422690.61564702   734774.95569724\n",
      "  1993514.95345944  4431639.74245054  -297793.48765016  3733031.98432386\n",
      "  2068845.11042863   773165.21021903   667682.30662197   780469.66699588\n",
      "   958268.49629641   -39727.25239462  1255642.77015752  1292840.10764104\n",
      "  1463365.9050138   1178213.74142271   638760.06481487  1444801.06622267\n",
      "  4814401.12398535  2412063.36489028   730079.99291813  3100242.88646215\n",
      "  4545390.80557901  1066130.51958615  2524413.36624569  1275200.97231501\n",
      "  4007443.64509594  1132291.21167231  2085303.16830486  1479226.15743989\n",
      "  2955128.79556686  3737678.97325939  1712915.92711085  6859743.26313138\n",
      "  2251618.92604208   754259.816939    -169130.80417746  -408950.79074645\n",
      "  1220130.43181103  3683652.83272696  2937324.0758059  -1551535.79241771\n",
      "  2254848.32537216  1336723.84614575  2356480.87158608  2422146.2688719\n",
      "  -136360.13133252    19729.38423574 -1399396.85966867  -444192.27825117\n",
      "  2435188.89085287    94127.64044487 -2114937.22826755  1085964.94289345\n",
      "  2782534.56661779  2193175.31750447  2241030.69898057  3703608.35377753\n",
      "  -109182.13647968  3748974.66925848  4950789.77134764  1163306.61157477\n",
      "  2180568.2927528   1459244.3832643   1485597.66875315  2251080.7641992\n",
      "  3265809.45606834  5918159.07295263   394052.66813648   133759.01706153\n",
      "   609521.6992898   1653035.1643607  -1578393.8877632   2379161.80109274\n",
      "  -984300.4726848  -1109820.55644625  1258089.60344988  1670333.13793552\n",
      "  1143672.74702281  3085805.06297332  2615347.98519289  1633455.67634004\n",
      "    14428.85757411  2704695.38593304  5433410.40254647  1068465.33057255\n",
      "   726926.4797672   2616627.47479951  4233255.62833744  5424799.44119745\n",
      "  1183417.45501947  2921447.77050155   554854.06916124  2359943.72468084\n",
      "  2816261.55121696  2574087.01244462   164471.74413985  1793552.30194646\n",
      "  2449544.7580536    -59528.99631542  1027759.67638141  2888481.84403449\n",
      "   430835.4258675    474997.65709502  4727338.48373514   250589.92266768\n",
      "   341599.81839001  6125278.64746165  2161633.91923481 -1469671.86932623\n",
      "   773558.56242174   906568.31232631  1397239.56744468  2611232.77650052\n",
      "  2859150.54720807   145808.53696197  2968154.73709089  1262067.19319052\n",
      "  4674510.40860689  2246233.74978477  3782513.92213649  2598508.43594968\n",
      "   965192.95768142  -615234.46220994  3867339.93475538  4964093.08224452\n",
      "  -155817.72006875   248654.58267611  -139554.04160255  1571181.59267187\n",
      "  2349694.93700433  4043532.67975408   264337.55394256  5811688.09696382\n",
      "  3040311.66316491  6236925.10642213  -206446.50736272  1321913.30476332\n",
      "  1481414.0742569   1148233.37565118  5468914.40031177   513115.70405787\n",
      "   448347.59186709   449890.10933238  -539691.85592419   -56755.61542153\n",
      "    50176.39288795   681525.05578023  -438152.89629436  1192799.78527486\n",
      "  -635405.91132116  2285948.23017913   489199.18880475   237814.97998667]\n"
     ]
    }
   ],
   "source": [
    "from sklearn.model_selection import train_test_split\n",
    "from sklearn.linear_model import LinearRegression\n",
    "a_train,a_test,b_train,b_test=train_test_split(a,b,test_size=0.2,random_state=25)\n",
    "model=LinearRegression()\n",
    "model.fit(a_train,b_train)\n",
    "b_pred=model.predict(a_test)\n",
    "print(b_pred)"
   ]
  },
  {
   "cell_type": "code",
   "execution_count": 23,
   "id": "808fe745",
   "metadata": {},
   "outputs": [
    {
     "name": "stdout",
     "output_type": "stream",
     "text": [
      "0.5934049563016508\n"
     ]
    }
   ],
   "source": [
    "from sklearn.metrics import r2_score\n",
    "r2=r2_score(b_test,b_pred)\n",
    "print(r2)"
   ]
  },
  {
   "cell_type": "code",
   "execution_count": 24,
   "id": "731106c3",
   "metadata": {},
   "outputs": [
    {
     "name": "stdout",
     "output_type": "stream",
     "text": [
      "[ 1.41842722e+06  1.86273639e+05  3.65124696e+06 -1.35890982e+05\n",
      "  1.34213960e+06 -5.91051177e+05  2.05455869e+06  3.99595583e+06\n",
      "  9.25952159e+05  1.15346128e+06  7.16207569e+05  6.12418772e+06\n",
      "  2.46573179e+06  3.14539814e+06  5.58251118e+05  1.50371039e+05\n",
      " -7.16978193e+05  9.74059445e+05  1.44920933e+05  2.43572377e+06\n",
      " -8.79630630e+04  4.14049225e+05  1.70139231e+06  5.03800122e+06\n",
      " -4.76257304e+04  4.43782049e+06  2.53863845e+06  2.20834197e+06\n",
      "  2.58624190e+06  2.25556135e+06 -3.77941468e+05  7.57824176e+05\n",
      "  2.44471260e+05  2.35845485e+06  4.96848284e+06  6.77927472e+05\n",
      "  1.05755135e+06  3.13730614e+06  9.63229748e+05  8.29595138e+05\n",
      "  3.25608334e+06  6.03880746e+06  2.80241070e+06 -2.64175502e+05\n",
      "  6.91443603e+05  2.12111472e+06  3.20304202e+06 -5.59533092e+05\n",
      "  4.17334115e+05  1.36999391e+06  7.44032845e+05  2.64210999e+06\n",
      "  4.02649107e+06  4.55484897e+05  6.46904459e+05  2.20029243e+06\n",
      "  3.28714706e+06  1.00983646e+06  4.42531267e+06  2.06058294e+06\n",
      "  2.01679786e+06 -1.52442883e+06  1.75444594e+06  2.40573670e+06\n",
      "  2.28895987e+06  3.59796566e+05  1.73233725e+06  1.20213548e+06\n",
      " -4.94646731e+05  1.19088249e+06 -1.05141175e+05 -6.44191158e+05\n",
      "  1.44555932e+06  2.45623988e+06  1.16894424e+06 -1.20591946e+05\n",
      "  2.43952832e+06  1.31896591e+06  3.17430264e+05  3.55402532e+06\n",
      "  1.87788463e+06  4.40554449e+06  1.69159162e+06  4.23625694e+06\n",
      "  9.73153633e+05  1.31504201e+06  3.06036158e+06  1.89628851e+06\n",
      " -6.80662028e+05  2.92151334e+06  4.05540321e+06  4.97032088e+06\n",
      "  2.83231708e+06  1.77491886e+06  2.20179186e+06  8.05893264e+05\n",
      "  2.50324600e+06  1.18618341e+06  2.60955560e+06  1.75289135e+06\n",
      "  3.49592191e+04  9.34734372e+05  1.09699876e+06 -2.80274631e+05\n",
      "  3.14698199e+06  3.90194555e+06  3.32823990e+06  6.89540906e+05\n",
      "  4.24463453e+06  7.28770614e+05  2.31586473e+06  5.73075764e+05\n",
      "  3.14549312e+06 -3.25007379e+05  2.97567944e+06  6.66208610e+05\n",
      "  2.88310609e+06  2.55392446e+06  7.16159431e+05  8.97678707e+05\n",
      "  1.62716841e+04 -6.23023223e+05  1.73807990e+06 -1.71028708e+03\n",
      "  2.82505241e+06  1.03423921e+06  1.65549147e+06  4.93275675e+06\n",
      " -1.77781429e+06  2.08200512e+06  1.35622221e+06  6.00263769e+05\n",
      "  6.41048274e+05  1.84407513e+06  2.08177309e+06  9.79271850e+05\n",
      "  5.75009567e+05  6.45955155e+06 -6.49205584e+05  2.80272205e+06\n",
      "  4.45500754e+06  2.15328960e+06  3.58525955e+06  1.70726156e+06\n",
      "  2.94952478e+05  3.80498600e+05  5.41114605e+06 -2.09576134e+05\n",
      "  1.90756743e+05  3.23493286e+06  1.44827835e+06  1.48045707e+06\n",
      "  2.04255842e+06  2.20175706e+06  1.72323665e+06  1.12659221e+06\n",
      "  9.50564592e+05  1.62015901e+06  8.05621620e+05  7.79347674e+05\n",
      " -1.89986655e+05  2.56307864e+06  1.12487708e+06  1.29455111e+06\n",
      "  1.77200431e+06  8.75673355e+04  1.84778254e+06  5.81000725e+06\n",
      "  1.54876437e+06  5.57553866e+05 -7.12052747e+04  4.17575659e+04\n",
      "  2.49781319e+06  3.49818584e+06  2.94941827e+06  3.53917184e+05\n",
      "  1.60740332e+06  4.24518917e+05  3.59336854e+06  8.43564984e+05\n",
      " -5.76585260e+05 -3.87988117e+05  1.66788053e+06  8.65273674e+05\n",
      "  3.44798961e+06  7.93248089e+05  4.06961088e+06  1.33716339e+06\n",
      "  8.29745439e+03 -8.84895441e+02  1.19041137e+06  4.29718064e+06\n",
      "  3.79066200e+06  4.53104238e+05  3.13031548e+06  7.20139963e+05\n",
      "  2.72710886e+06 -6.24112618e+05  1.22273059e+05  8.26813896e+05\n",
      " -1.59156112e+06  2.64341825e+05  1.00331555e+06  1.72360290e+06\n",
      "  9.86779257e+05  6.42315978e+05 -6.11945586e+05  9.27875148e+05\n",
      "  1.55463439e+06  4.24639638e+06  6.66315475e+04 -3.96956289e+05\n",
      "  1.33746716e+06  3.17297586e+06  5.31136674e+06  1.11273664e+06\n",
      "  4.41306966e+06  2.11518660e+06  1.93464863e+06  3.76064030e+03\n",
      "  4.15152716e+05  3.07612647e+06  2.12590520e+06  9.90925379e+05\n",
      "  4.92091073e+06  3.64471393e+06  6.43290945e+05  1.97316166e+05\n",
      "  8.34054617e+05  4.73529356e+06  3.43016573e+05  2.07786456e+06\n",
      "  3.88942229e+05  1.87757975e+06  3.15244737e+06 -4.13008819e+05\n",
      "  1.53519747e+06  3.81420812e+06  3.75778938e+06 -4.02469696e+05\n",
      "  3.65872202e+06  1.39865923e+06  1.21475637e+06  4.35413695e+05\n",
      "  2.86927587e+06  1.15481420e+06  4.02572971e+05  8.00935793e+05\n",
      "  5.72733288e+05  1.22965348e+06  1.57070828e+06  1.80547984e+06\n",
      "  8.26349667e+05  1.79379133e+05 -2.53063170e+05  2.29381732e+06\n",
      "  3.09754461e+06  7.21285408e+05  3.36348493e+06  5.54799571e+05\n",
      "  1.62371444e+06  3.77377736e+06 -4.41322742e+05  3.03577784e+06\n",
      "  1.45594093e+06  9.74293514e+05  3.81149971e+06  8.15893101e+05\n",
      "  1.30511389e+06  2.83956355e+05  1.28200554e+06  1.12937200e+06\n",
      "  1.75314558e+06  1.37406312e+06  5.97744775e+05  1.34232901e+06\n",
      "  3.65127961e+06  1.19770718e+06  8.68121232e+05  2.99020356e+06\n",
      "  4.00501500e+06  6.77282440e+05  2.09977872e+06  1.02545917e+06\n",
      "  3.93139322e+06  9.04685363e+05  1.74121672e+06  1.58438618e+06\n",
      "  2.30835331e+06  2.85516530e+06  1.80569871e+06  5.32763990e+06\n",
      "  2.43148243e+06  8.96758357e+05  1.53874597e+04 -1.24183831e+05\n",
      "  1.44378144e+06  3.71436684e+06  2.34968453e+06 -1.19511853e+06\n",
      "  2.22982792e+06  1.33064056e+06  2.02203800e+06  1.90758009e+06\n",
      "  2.01292469e+05  4.43708634e+05 -1.40705374e+06 -5.53064170e+05\n",
      "  2.04539765e+06 -1.79246433e+05 -1.53917182e+06  8.46957246e+05\n",
      "  2.37897240e+06  1.64558207e+06  1.85997181e+06  3.16335630e+06\n",
      " -3.38092324e+05  3.32849330e+06  4.34025943e+06  9.12640425e+05\n",
      "  3.78171739e+06  1.23646136e+06  1.00239003e+06  1.77212385e+06\n",
      "  2.99511396e+06  5.15345726e+06  5.00808510e+05  6.75531019e+05\n",
      "  9.40749574e+05  2.14161382e+06 -1.48565571e+06  2.53638963e+06\n",
      " -6.02720721e+05 -9.50800761e+05  1.02369408e+06  9.71978033e+05\n",
      "  1.24478306e+06  2.68513905e+06  2.49236408e+06  1.39247617e+06\n",
      "  5.51711248e+05  1.84447939e+06  4.65186912e+06  1.11697005e+06\n",
      "  9.39017912e+05  1.99174778e+06  3.43614256e+06  4.12117286e+06\n",
      "  1.18232384e+06  2.87061838e+06  3.80321300e+05  1.58725791e+06\n",
      "  2.02985669e+06  2.51494327e+06  6.48638088e+05  1.34947436e+06\n",
      "  1.84657711e+06  1.04763328e+05  1.11366450e+06  2.47991295e+06\n",
      "  3.34671678e+05  6.32866986e+05  4.13702883e+06  5.25188293e+05\n",
      "  5.21065915e+05  5.36306490e+06  2.12444160e+06 -1.45809176e+06\n",
      "  1.19172889e+06  1.32238500e+06  1.75056778e+06  2.32770499e+06\n",
      "  2.61518320e+06  8.81061487e+04  2.59376344e+06  1.16851389e+06\n",
      "  4.08026954e+06  2.47973538e+06  3.42882483e+06  2.46409904e+06\n",
      "  1.12511561e+06 -5.91723904e+05  3.10619137e+06  4.16354109e+06\n",
      "  1.66062237e+05  5.98026827e+05 -3.82984864e+05  1.71998195e+06\n",
      "  1.67744796e+06  3.78610927e+06  3.55165267e+05  4.18470555e+06\n",
      "  2.03732267e+06  5.07426361e+06 -2.87404221e+05  1.35846966e+06\n",
      "  1.32195427e+06  1.19572829e+06  6.25142222e+06  2.72010412e+05\n",
      "  2.27697796e+05  7.75875454e+05 -1.96317407e+05  2.13818888e+05\n",
      "  1.63872289e+05  7.20019981e+05 -1.01332578e+06  1.27321226e+06\n",
      " -4.84014993e+05  2.29063737e+06  3.75048846e+05  1.46454534e+04]\n"
     ]
    }
   ],
   "source": [
    "model=LinearRegression()\n",
    "model.fit(a_test,b_test)\n",
    "b_pred=model.predict(a_test)\n",
    "print(b_pred)"
   ]
  },
  {
   "cell_type": "code",
   "execution_count": 25,
   "id": "4e138991",
   "metadata": {},
   "outputs": [
    {
     "name": "stdout",
     "output_type": "stream",
     "text": [
      "0.6674610358824391\n"
     ]
    }
   ],
   "source": [
    "r2=r2_score(b_test,b_pred)\n",
    "print(r2)"
   ]
  },
  {
   "cell_type": "code",
   "execution_count": 26,
   "id": "bf285206",
   "metadata": {},
   "outputs": [],
   "source": [
    "from sklearn.tree import DecisionTreeRegressor\n",
    "dt=DecisionTreeRegressor()\n",
    "dt.fit(a_train,b_train)\n",
    "b_pred=dt.predict(a_test)"
   ]
  },
  {
   "cell_type": "code",
   "execution_count": 27,
   "id": "32148c30",
   "metadata": {},
   "outputs": [
    {
     "name": "stdout",
     "output_type": "stream",
     "text": [
      "0.8082439026713473\n"
     ]
    }
   ],
   "source": [
    "r2=r2_score(b_test,b_pred)\n",
    "print(r2)"
   ]
  },
  {
   "cell_type": "code",
   "execution_count": 28,
   "id": "80574368",
   "metadata": {},
   "outputs": [],
   "source": [
    "from sklearn.tree import DecisionTreeRegressor\n",
    "dt=DecisionTreeRegressor(criterion='squared_error', splitter='best', max_depth=None, min_samples_split=10, min_samples_leaf=4, min_weight_fraction_leaf=0.0)\n",
    "dt.fit(a_train,b_train)\n",
    "b_pred=dt.predict(a_test)"
   ]
  },
  {
   "cell_type": "code",
   "execution_count": 29,
   "id": "7bc40c7c",
   "metadata": {},
   "outputs": [
    {
     "name": "stdout",
     "output_type": "stream",
     "text": [
      "0.6605062100178016\n"
     ]
    }
   ],
   "source": [
    "r2=r2_score(b_test,b_pred)\n",
    "print(r2)"
   ]
  },
  {
   "cell_type": "code",
   "execution_count": 30,
   "id": "19e01388",
   "metadata": {},
   "outputs": [],
   "source": [
    "from sklearn.tree import DecisionTreeRegressor\n",
    "dt=DecisionTreeRegressor()\n",
    "dt.fit(a_test,b_test)\n",
    "b_pred=dt.predict(a_test)"
   ]
  },
  {
   "cell_type": "code",
   "execution_count": 31,
   "id": "c4043057",
   "metadata": {},
   "outputs": [
    {
     "name": "stdout",
     "output_type": "stream",
     "text": [
      "1.0\n"
     ]
    }
   ],
   "source": [
    "r2=r2_score(b_test,b_pred)\n",
    "print(r2)"
   ]
  },
  {
   "cell_type": "code",
   "execution_count": 32,
   "id": "9d95679d",
   "metadata": {},
   "outputs": [],
   "source": [
    "from sklearn.tree import DecisionTreeRegressor\n",
    "dt=DecisionTreeRegressor(criterion='squared_error', splitter='best', max_depth=None, min_samples_split=10, min_samples_leaf=4, min_weight_fraction_leaf=0.0)\n",
    "dt.fit(a_test,b_test)\n",
    "b_pred=dt.predict(a_test)"
   ]
  },
  {
   "cell_type": "code",
   "execution_count": 33,
   "id": "f4410c9e",
   "metadata": {},
   "outputs": [
    {
     "name": "stdout",
     "output_type": "stream",
     "text": [
      "0.8944512972402956\n"
     ]
    }
   ],
   "source": [
    "r2=r2_score(b_test,b_pred)\n",
    "print(r2)"
   ]
  },
  {
   "cell_type": "code",
   "execution_count": 60,
   "id": "1256bc00",
   "metadata": {},
   "outputs": [],
   "source": [
    "from sklearn.ensemble import RandomForestRegressor\n",
    "rf=RandomForestRegressor()\n",
    "rf.fit(a_train,b_train)\n",
    "b_pred=rf.predict(a_test)"
   ]
  },
  {
   "cell_type": "code",
   "execution_count": 61,
   "id": "1925d010",
   "metadata": {},
   "outputs": [
    {
     "name": "stdout",
     "output_type": "stream",
     "text": [
      "0.9063132312719325\n"
     ]
    }
   ],
   "source": [
    "r2=r2_score(b_test,b_pred)\n",
    "print(r2)"
   ]
  },
  {
   "cell_type": "code",
   "execution_count": 36,
   "id": "8a6eb4db",
   "metadata": {},
   "outputs": [],
   "source": [
    "from sklearn.ensemble import RandomForestRegressor\n",
    "rf=RandomForestRegressor()\n",
    "rf.fit(a_test,b_test)\n",
    "b_pred=rf.predict(a_test)"
   ]
  },
  {
   "cell_type": "code",
   "execution_count": 37,
   "id": "b2e03ee6",
   "metadata": {},
   "outputs": [
    {
     "name": "stdout",
     "output_type": "stream",
     "text": [
      "0.9712471869273611\n"
     ]
    }
   ],
   "source": [
    "r2=r2_score(b_test,b_pred)\n",
    "print(r2)"
   ]
  },
  {
   "cell_type": "code",
   "execution_count": 46,
   "id": "7ec1e0f9",
   "metadata": {},
   "outputs": [
    {
     "data": {
      "text/plain": [
       "0.9221957863910017"
      ]
     },
     "execution_count": 46,
     "metadata": {},
     "output_type": "execute_result"
    }
   ],
   "source": [
    "from sklearn.ensemble import BaggingRegressor\n",
    "br=BaggingRegressor()\n",
    "br.fit(a_train,b_train)\n",
    "y_pred=br.predict(a_test)\n",
    "from sklearn.metrics import r2_score\n",
    "r2_score(b_test,y_pred)"
   ]
  },
  {
   "cell_type": "code",
   "execution_count": 47,
   "id": "111e0769",
   "metadata": {},
   "outputs": [
    {
     "data": {
      "text/plain": [
       "0.9620651673922345"
      ]
     },
     "execution_count": 47,
     "metadata": {},
     "output_type": "execute_result"
    }
   ],
   "source": [
    "from sklearn.ensemble import BaggingRegressor\n",
    "br=BaggingRegressor()\n",
    "br.fit(a_test,b_test)\n",
    "y_pred=br.predict(a_test)\n",
    "from sklearn.metrics import r2_score\n",
    "r2_score(b_test,y_pred)"
   ]
  },
  {
   "cell_type": "code",
   "execution_count": 48,
   "id": "e2f13208",
   "metadata": {},
   "outputs": [
    {
     "data": {
      "text/plain": [
       "{'n_estimators': 70,\n",
       " 'min_samples_split': 8,\n",
       " 'min_samples_leaf': 1,\n",
       " 'max_depth': 6}"
      ]
     },
     "execution_count": 48,
     "metadata": {},
     "output_type": "execute_result"
    }
   ],
   "source": [
    "rf_param={\n",
    "    'n_estimators':[10,20,30,40,50,60,70,80,90,100],\n",
    "    'max_depth':[1,2,3,4,5,6,7,8,9,10],                  #[],(),{}\n",
    "    'min_samples_split':[2,3,4,5,6,7,8,9,10],\n",
    "    'min_samples_leaf':[1,2,3,4,5,6,7,8,9,10]\n",
    "}\n",
    "from sklearn.model_selection import RandomizedSearchCV\n",
    "rf_model=RandomForestRegressor()\n",
    "rf_cv=RandomizedSearchCV(rf_model,rf_param,cv=5)\n",
    "rf_cv.fit(a_train,b_train)\n",
    "rf_cv.best_params_"
   ]
  },
  {
   "cell_type": "code",
   "execution_count": 49,
   "id": "8abaa06c",
   "metadata": {},
   "outputs": [
    {
     "data": {
      "text/plain": [
       "{'n_estimators': 70,\n",
       " 'min_samples_split': 2,\n",
       " 'min_samples_leaf': 2,\n",
       " 'max_depth': 9}"
      ]
     },
     "execution_count": 49,
     "metadata": {},
     "output_type": "execute_result"
    }
   ],
   "source": [
    "rf_param={\n",
    "    'n_estimators':[10,20,30,40,50,60,70,80,90,100],\n",
    "    'max_depth':[1,2,3,4,5,6,7,8,9,10],                  #[],(),{}\n",
    "    'min_samples_split':[2,3,4,5,6,7,8,9,10],\n",
    "    'min_samples_leaf':[1,2,3,4,5,6,7,8,9,10]\n",
    "}\n",
    "from sklearn.model_selection import RandomizedSearchCV\n",
    "rf_model=RandomForestRegressor()\n",
    "rf_cv=RandomizedSearchCV(rf_model,rf_param,cv=5)\n",
    "rf_cv.fit(a_test,b_test)\n",
    "rf_cv.best_params_"
   ]
  },
  {
   "cell_type": "code",
   "execution_count": 50,
   "id": "be792d28",
   "metadata": {},
   "outputs": [],
   "source": [
    "from sklearn.ensemble import RandomForestRegressor\n",
    "rf=RandomForestRegressor(n_estimators= 70,\n",
    " min_samples_split= 8,\n",
    " min_samples_leaf= 1,\n",
    " max_depth= 6)\n",
    "rf.fit(a_train,b_train)\n",
    "b_pred=rf.predict(a_test)"
   ]
  },
  {
   "cell_type": "code",
   "execution_count": 51,
   "id": "f745d826",
   "metadata": {},
   "outputs": [
    {
     "name": "stdout",
     "output_type": "stream",
     "text": [
      "0.867154252592206\n"
     ]
    }
   ],
   "source": [
    "r2=r2_score(b_test,b_pred)\n",
    "print(r2)"
   ]
  },
  {
   "cell_type": "code",
   "execution_count": 58,
   "id": "082ff8c7",
   "metadata": {},
   "outputs": [],
   "source": [
    "from sklearn.ensemble import RandomForestRegressor\n",
    "rf=RandomForestRegressor(n_estimators= 70,\n",
    " min_samples_split= 2,\n",
    " min_samples_leaf= 2,\n",
    " max_depth= 9)\n",
    "rf.fit(a_train,b_train)\n",
    "b_pred=rf.predict(a_test)"
   ]
  },
  {
   "cell_type": "code",
   "execution_count": 59,
   "id": "cf764ecc",
   "metadata": {},
   "outputs": [
    {
     "name": "stdout",
     "output_type": "stream",
     "text": [
      "0.8896389796182506\n"
     ]
    }
   ],
   "source": [
    "r2=r2_score(b_test,b_pred)\n",
    "print(r2)"
   ]
  },
  {
   "cell_type": "code",
   "execution_count": null,
   "id": "7d905285",
   "metadata": {},
   "outputs": [],
   "source": []
  }
 ],
 "metadata": {
  "kernelspec": {
   "display_name": "Python 3",
   "language": "python",
   "name": "python3"
  },
  "language_info": {
   "codemirror_mode": {
    "name": "ipython",
    "version": 3
   },
   "file_extension": ".py",
   "mimetype": "text/x-python",
   "name": "python",
   "nbconvert_exporter": "python",
   "pygments_lexer": "ipython3",
   "version": "3.13.7"
  }
 },
 "nbformat": 4,
 "nbformat_minor": 5
}
